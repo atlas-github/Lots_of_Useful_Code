{
  "nbformat": 4,
  "nbformat_minor": 0,
  "metadata": {
    "colab": {
      "name": "Introduction to Random Forests.ipynb",
      "version": "0.3.2",
      "provenance": [],
      "collapsed_sections": [],
      "include_colab_link": true
    },
    "kernelspec": {
      "name": "python3",
      "display_name": "Python 3"
    },
    "accelerator": "TPU"
  },
  "cells": [
    {
      "cell_type": "markdown",
      "metadata": {
        "id": "view-in-github",
        "colab_type": "text"
      },
      "source": [
        "<a href=\"https://colab.research.google.com/github/atlas-github/Lots_of_Useful_Code/blob/master/Introduction_to_Random_Forests.ipynb\" target=\"_parent\"><img src=\"https://colab.research.google.com/assets/colab-badge.svg\" alt=\"Open In Colab\"/></a>"
      ]
    },
    {
      "cell_type": "markdown",
      "metadata": {
        "id": "RG1g1VztqCHn",
        "colab_type": "text"
      },
      "source": [
        "Source: [Introduction to Random Forests](https://www.datascience.com/resources/notebooks/random-forest-intro)"
      ]
    },
    {
      "cell_type": "markdown",
      "metadata": {
        "id": "H_0-wHzOqMMQ",
        "colab_type": "text"
      },
      "source": [
        "# Introduction"
      ]
    },
    {
      "cell_type": "markdown",
      "metadata": {
        "id": "5-6NjF-_qzXW",
        "colab_type": "text"
      },
      "source": [
        "This piece was adapted with permission from the author from [inertia7.com](https://www.inertia7.com/). View the original [here](https://www.inertia7.com/projects/95). "
      ]
    },
    {
      "cell_type": "markdown",
      "metadata": {
        "id": "q2NmUaQSq72n",
        "colab_type": "text"
      },
      "source": [
        "Random forests, also known as random decision forests, are a popular ensemble method that can be used to build predictive models for both classification and regression problems. Ensemble methods use multiple learning models to gain better predictive results — in the case of a random forest, the model creates an entire forest of random uncorrelated decision trees to arrive at the best possible answer.\n",
        "\n",
        "To demonstrate how this works in practice — specifically in a classification context — I’ll be walking you through an example using a famous data set from the University of California, Irvine (UCI) Machine Learning Repository. The data set, called the Breast Cancer Wisconsin (Diagnostic) Data Set, deals with binary classification and includes features computed from digitized images of biopsies. The data set can be downloaded [here](https://archive.ics.uci.edu/ml/datasets/Breast+Cancer+Wisconsin+%28Diagnostic%29).\n",
        "\n",
        "To follow this tutorial, you will need some familiarity with classification and regression tree (CART) modeling. I will provide a brief overview of different CART methodologies that are relevant to random forest, beginning with decision trees. If you’d like to brush up on your knowledge of CART modeling before beginning the tutorial, I highly recommend reading Chapter 8 of the book “An Introduction to Statistical Learning with Applications in R,” which can be downloaded [here](http://www-bcf.usc.edu/~gareth/ISL/)."
      ]
    },
    {
      "cell_type": "markdown",
      "metadata": {
        "id": "omMLNyzDrLsY",
        "colab_type": "text"
      },
      "source": [
        "# Decision Trees"
      ]
    },
    {
      "cell_type": "markdown",
      "metadata": {
        "id": "95_hCmwirNcV",
        "colab_type": "text"
      },
      "source": [
        "Decision trees are simple but intuitive models that utilize a top-down approach in which the root node creates binary splits until a certain criteria is met. This binary splitting of nodes provides a predicted value based on the interior nodes leading to the terminal (final) nodes. In a classification context, a decision tree will output a predicted target class for each terminal node produced.\n",
        "\n",
        "Although intuitive, decision trees have limitations that prevent them from being useful in [machine learning applications](https://www.datascience.com/blog/machine-learning-and-deep-learning-what-is-the-difference). You can learn more about implementing a decision tree [here](http://scikit-learn.org/stable/modules/tree.html)."
      ]
    },
    {
      "cell_type": "markdown",
      "metadata": {
        "id": "ZLpFlXuTrYQ_",
        "colab_type": "text"
      },
      "source": [
        "## Limitations to Decision Trees"
      ]
    },
    {
      "cell_type": "markdown",
      "metadata": {
        "id": "8oORsKyfradJ",
        "colab_type": "text"
      },
      "source": [
        "Decision trees tend to have high variance when they utilize different training and test sets of the same data, since they tend to overfit on training data. This leads to poor performance on unseen data. Unfortunately, this limits the usage of decision trees in predictive modeling. However, using ensemble methods, we can create models that utilize underlying decision trees as a foundation for producing powerful results."
      ]
    },
    {
      "cell_type": "markdown",
      "metadata": {
        "id": "PWKes2K9rdUp",
        "colab_type": "text"
      },
      "source": [
        "# Bootstrap Aggregating Trees"
      ]
    },
    {
      "cell_type": "markdown",
      "metadata": {
        "id": "c3cOu5NQsBt5",
        "colab_type": "text"
      },
      "source": [
        "Through a process known as bootstrap aggregating (or bagging), it’s possible to create an ensemble (forest) of trees where multiple training sets are generated with replacement, meaning data instances — or in the case of this tutorial, patients — can be repeated. Once the training sets are created, a CART model can be trained on each subsample.\n",
        "\n",
        "This approach helps reduce variance by averaging the ensemble's results, creating a majority-votes model. Another important feature of bagging trees is that the resulting model uses the entire feature space when considering node splits. Bagging trees allow the trees to grow without pruning, reducing the tree-depth sizes and resulting in high variance but lower bias, which can help improve predictive power.\n",
        "\n",
        "However, a downside to this process is that the utilization of the entire feature space creates a risk of correlation between trees, increasing bias in the model."
      ]
    },
    {
      "cell_type": "markdown",
      "metadata": {
        "id": "Z9E-DujAsDzK",
        "colab_type": "text"
      },
      "source": [
        "## Limitations to Bagging Trees"
      ]
    },
    {
      "cell_type": "markdown",
      "metadata": {
        "id": "q3GByoAZsGNX",
        "colab_type": "text"
      },
      "source": [
        "The main limitation of bagging trees is that it uses the entire feature space when creating splits in the trees. If some variables within the feature space are indicative of certain predictions, you run the risk of having a forest of correlated trees, thereby increasing bias and reducing variance.\n",
        "\n",
        "However, a simple tweak of the bagging trees methodology can prove advantageous to the model’s predictive power."
      ]
    },
    {
      "cell_type": "markdown",
      "metadata": {
        "id": "5b5wv_HtsJtS",
        "colab_type": "text"
      },
      "source": [
        "# Random Forest"
      ]
    },
    {
      "cell_type": "markdown",
      "metadata": {
        "id": "2AH0KEyLsL4N",
        "colab_type": "text"
      },
      "source": [
        "Random forest aims to reduce the previously mentioned correlation issue by choosing only a subsample of the feature space at each split. Essentially, it aims to make the trees de-correlated and prune the trees by setting a stopping criteria for node splits, which I will cover in more detail later.\n",
        "\n",
        "After this tutorial you will be familiar with how to implement the following in Python:\n",
        "\n",
        "* Basic exploratory analysis\n",
        "* Training and test set creation\n",
        "* Model fitting using sklearn\n",
        "* Hyperparameter optimization\n",
        "* Out-of-bag error rate\n",
        "* Calculating variable importance\n",
        "* Test set calculations\n",
        "* Cross validation\n",
        "* ROC curve estimation\n",
        "* Business Uses"
      ]
    },
    {
      "cell_type": "markdown",
      "metadata": {
        "id": "2OgggD3bsTtU",
        "colab_type": "text"
      },
      "source": [
        "## Business Uses"
      ]
    },
    {
      "cell_type": "markdown",
      "metadata": {
        "id": "_Z9Rk7U6sW-N",
        "colab_type": "text"
      },
      "source": [
        "Random Forest can be used for a plethora of data circumstances including, but not limited to:\n",
        "\n",
        "* [Image classification](https://www.datascience.com/resources/seminar/image-recognition-with-deep-learning)\n",
        "* Detecting fraudulent cases in banking systems\n",
        "* [Recommendation engines](https://www.datascience.com/resources/white-papers/introduction-to-recommendation-engines-for-business)\n",
        "* Feature selection"
      ]
    },
    {
      "cell_type": "markdown",
      "metadata": {
        "id": "JPRyPwZ5sktV",
        "colab_type": "text"
      },
      "source": [
        "# Load Packages"
      ]
    },
    {
      "cell_type": "markdown",
      "metadata": {
        "id": "2AVymiONsnQI",
        "colab_type": "text"
      },
      "source": [
        "To get started, let's load our modules into our Python environment. I am employing a Jupyter Notebook while running inside a virtualenv environment (the **requirements.txt** file associated with [this repo](https://github.com/raviolli77/machineLearning_breastCancer_Python) contains the module information for reproducibility).\n",
        "\n",
        "For the purposes of this tutorial, I will primarily be using the [SciPy](https://www.scipy.org/stackspec.html) stack, especially **pandas**, **matplotlib**, **seaborn** and **sklearn**."
      ]
    },
    {
      "cell_type": "code",
      "metadata": {
        "id": "2gr6k8Grpwpm",
        "colab_type": "code",
        "colab": {}
      },
      "source": [
        "# Import modules\n",
        "%matplotlib inline\n",
        "\n",
        "import time\n",
        "import random\n",
        "import numpy as np\n",
        "import pandas as pd\n",
        "import seaborn as sns\n",
        "import matplotlib.pyplot as plt\n",
        "from sklearn.metrics import roc_curve, auc\n",
        "from sklearn.metrics import confusion_matrix\n",
        "from sklearn.metrics import classification_report\n",
        "from sklearn.model_selection import KFold, cross_val_score\n",
        "from sklearn.model_selection import train_test_split, GridSearchCV\n",
        "from sklearn.ensemble import RandomForestClassifier\n",
        "from urllib.request import urlopen\n",
        "\n",
        "plt.style.use('ggplot')\n",
        "pd.set_option('display.max_columns', 500)"
      ],
      "execution_count": 0,
      "outputs": []
    },
    {
      "cell_type": "markdown",
      "metadata": {
        "id": "Q6KRUTOrs8Qq",
        "colab_type": "text"
      },
      "source": [
        "# Load Data"
      ]
    },
    {
      "cell_type": "markdown",
      "metadata": {
        "id": "v5z5t-Ers979",
        "colab_type": "text"
      },
      "source": [
        "Let's load the data into a **Pandas** dataframe using **urlopen** from the **urllib.request** module.\n",
        "\n",
        "Instead of downloading a **csv**, I grabbed the data straight from the [UCI Machine Learning Database](https://archive.ics.uci.edu/ml/datasets.html) using an http request, a method inspired by [Python tutorials](https://github.com/JasonFreeberg/PythonTutorials) from the University of California, Santa Barbara's data science course."
      ]
    },
    {
      "cell_type": "code",
      "metadata": {
        "id": "G0xeMVw_s5Ui",
        "colab_type": "code",
        "colab": {}
      },
      "source": [
        "# Loading data and cleaning dataset\n",
        "UCI_data_URL = 'https://archive.ics.uci.edu/ml/machine-learning-databases\\\n",
        "/breast-cancer-wisconsin/wdbc.data'"
      ],
      "execution_count": 0,
      "outputs": []
    },
    {
      "cell_type": "markdown",
      "metadata": {
        "id": "WtV6TknjtySR",
        "colab_type": "text"
      },
      "source": [
        "I recommend that you keep a static file for your data set as well.\n",
        "\n",
        "Now, create a list with the appropriate names and set them as the data frame's column names. Then, load them into a pandas data frame."
      ]
    },
    {
      "cell_type": "code",
      "metadata": {
        "id": "fw1KGEtKtx-f",
        "colab_type": "code",
        "colab": {}
      },
      "source": [
        "names = ['id_number', 'diagnosis', 'radius_mean',\n",
        "         'texture_mean', 'perimeter_mean', 'area_mean',\n",
        "         'smoothness_mean', 'compactness_mean',\n",
        "         'concavity_mean','concave_points_mean',\n",
        "         'symmetry_mean', 'fractal_dimension_mean',\n",
        "         'radius_se', 'texture_se', 'perimeter_se',\n",
        "         'area_se', 'smoothness_se', 'compactness_se',\n",
        "         'concavity_se', 'concave_points_se',\n",
        "         'symmetry_se', 'fractal_dimension_se',\n",
        "         'radius_worst', 'texture_worst',\n",
        "         'perimeter_worst', 'area_worst',\n",
        "         'smoothness_worst', 'compactness_worst',\n",
        "         'concavity_worst', 'concave_points_worst',\n",
        "         'symmetry_worst', 'fractal_dimension_worst']\n",
        "\n",
        "dx = ['Benign', 'Malignant']"
      ],
      "execution_count": 0,
      "outputs": []
    },
    {
      "cell_type": "code",
      "metadata": {
        "id": "kvsAjiYDt19-",
        "colab_type": "code",
        "colab": {}
      },
      "source": [
        "breast_cancer = pd.read_csv(urlopen(UCI_data_URL), names=names)"
      ],
      "execution_count": 0,
      "outputs": []
    },
    {
      "cell_type": "markdown",
      "metadata": {
        "id": "U-v1Z_Dzt6nX",
        "colab_type": "text"
      },
      "source": [
        "# Cleaning"
      ]
    },
    {
      "cell_type": "markdown",
      "metadata": {
        "id": "LkwD0iBTt9dJ",
        "colab_type": "text"
      },
      "source": [
        "You'll need to do some minor cleaning, such as setting the **id_number** to the data frame index and converting the **diagnosis** to the standard binary 1, 0 representation using the **map()** function."
      ]
    },
    {
      "cell_type": "code",
      "metadata": {
        "id": "0oa3trX7t4Aj",
        "colab_type": "code",
        "colab": {}
      },
      "source": [
        "# Setting 'id_number' as our index\n",
        "breast_cancer.set_index(['id_number'], inplace = True)\n",
        "# Converted to binary to help later on with models and plots\n",
        "breast_cancer['diagnosis'] = breast_cancer['diagnosis'].map({'M':1, 'B':0})"
      ],
      "execution_count": 0,
      "outputs": []
    },
    {
      "cell_type": "markdown",
      "metadata": {
        "id": "NrqOSETWuGWA",
        "colab_type": "text"
      },
      "source": [
        "# Missing Values"
      ]
    },
    {
      "cell_type": "markdown",
      "metadata": {
        "id": "DCbmAebQuI9-",
        "colab_type": "text"
      },
      "source": [
        "Given context of the data set, I know there is no missing data. Even so, let's run a for-loop to see if there are any missing values in our columns. Below, you'll see the column name and total missing values for that column."
      ]
    },
    {
      "cell_type": "code",
      "metadata": {
        "id": "XMSGvhohuFeA",
        "colab_type": "code",
        "colab": {
          "base_uri": "https://localhost:8080/",
          "height": 34
        },
        "outputId": "97bc9c63-6d87-41c9-808f-9f9afcd663a2"
      },
      "source": [
        "for col in breast_cancer:\n",
        "    if ((breast_cancer[col].isnull().values.ravel().sum()) == 0):\n",
        "        pass\n",
        "    else:\n",
        "        print(col)\n",
        "        print((breast_cancer[col].isnull().values.ravel().sum()))\n",
        "print(r'Sanity Check! \\No missing Values found!')"
      ],
      "execution_count": 42,
      "outputs": [
        {
          "output_type": "stream",
          "text": [
            "Sanity Check! \\No missing Values found!\n"
          ],
          "name": "stdout"
        }
      ]
    },
    {
      "cell_type": "markdown",
      "metadata": {
        "id": "1TUWHuzxunn7",
        "colab_type": "text"
      },
      "source": [
        "Sanity check! No missing values found! We'll use this for the random forest model, where the **id_number** won't be relevant."
      ]
    },
    {
      "cell_type": "code",
      "metadata": {
        "id": "6MN9YRAouNYz",
        "colab_type": "code",
        "colab": {}
      },
      "source": [
        "# For later use in CART models\n",
        "names_index = names[2:]"
      ],
      "execution_count": 0,
      "outputs": []
    },
    {
      "cell_type": "markdown",
      "metadata": {
        "id": "uPZeRN8NuslJ",
        "colab_type": "text"
      },
      "source": [
        "Let's preview the data set utilizing the **head()** function, which will provide the first five values of our data frame."
      ]
    },
    {
      "cell_type": "code",
      "metadata": {
        "id": "5CAxKSB5ur-W",
        "colab_type": "code",
        "colab": {
          "base_uri": "https://localhost:8080/",
          "height": 255
        },
        "outputId": "a5d0db30-11d2-45bc-9d96-4ac89224054f"
      },
      "source": [
        "breast_cancer.head()"
      ],
      "execution_count": 44,
      "outputs": [
        {
          "output_type": "execute_result",
          "data": {
            "text/html": [
              "<div>\n",
              "<style scoped>\n",
              "    .dataframe tbody tr th:only-of-type {\n",
              "        vertical-align: middle;\n",
              "    }\n",
              "\n",
              "    .dataframe tbody tr th {\n",
              "        vertical-align: top;\n",
              "    }\n",
              "\n",
              "    .dataframe thead th {\n",
              "        text-align: right;\n",
              "    }\n",
              "</style>\n",
              "<table border=\"1\" class=\"dataframe\">\n",
              "  <thead>\n",
              "    <tr style=\"text-align: right;\">\n",
              "      <th></th>\n",
              "      <th>diagnosis</th>\n",
              "      <th>radius_mean</th>\n",
              "      <th>texture_mean</th>\n",
              "      <th>perimeter_mean</th>\n",
              "      <th>area_mean</th>\n",
              "      <th>smoothness_mean</th>\n",
              "      <th>compactness_mean</th>\n",
              "      <th>concavity_mean</th>\n",
              "      <th>concave_points_mean</th>\n",
              "      <th>symmetry_mean</th>\n",
              "      <th>fractal_dimension_mean</th>\n",
              "      <th>radius_se</th>\n",
              "      <th>texture_se</th>\n",
              "      <th>perimeter_se</th>\n",
              "      <th>area_se</th>\n",
              "      <th>smoothness_se</th>\n",
              "      <th>compactness_se</th>\n",
              "      <th>concavity_se</th>\n",
              "      <th>concave_points_se</th>\n",
              "      <th>symmetry_se</th>\n",
              "      <th>fractal_dimension_se</th>\n",
              "      <th>radius_worst</th>\n",
              "      <th>texture_worst</th>\n",
              "      <th>perimeter_worst</th>\n",
              "      <th>area_worst</th>\n",
              "      <th>smoothness_worst</th>\n",
              "      <th>compactness_worst</th>\n",
              "      <th>concavity_worst</th>\n",
              "      <th>concave_points_worst</th>\n",
              "      <th>symmetry_worst</th>\n",
              "      <th>fractal_dimension_worst</th>\n",
              "    </tr>\n",
              "    <tr>\n",
              "      <th>id_number</th>\n",
              "      <th></th>\n",
              "      <th></th>\n",
              "      <th></th>\n",
              "      <th></th>\n",
              "      <th></th>\n",
              "      <th></th>\n",
              "      <th></th>\n",
              "      <th></th>\n",
              "      <th></th>\n",
              "      <th></th>\n",
              "      <th></th>\n",
              "      <th></th>\n",
              "      <th></th>\n",
              "      <th></th>\n",
              "      <th></th>\n",
              "      <th></th>\n",
              "      <th></th>\n",
              "      <th></th>\n",
              "      <th></th>\n",
              "      <th></th>\n",
              "      <th></th>\n",
              "      <th></th>\n",
              "      <th></th>\n",
              "      <th></th>\n",
              "      <th></th>\n",
              "      <th></th>\n",
              "      <th></th>\n",
              "      <th></th>\n",
              "      <th></th>\n",
              "      <th></th>\n",
              "      <th></th>\n",
              "    </tr>\n",
              "  </thead>\n",
              "  <tbody>\n",
              "    <tr>\n",
              "      <th>842302</th>\n",
              "      <td>1</td>\n",
              "      <td>17.99</td>\n",
              "      <td>10.38</td>\n",
              "      <td>122.80</td>\n",
              "      <td>1001.0</td>\n",
              "      <td>0.11840</td>\n",
              "      <td>0.27760</td>\n",
              "      <td>0.3001</td>\n",
              "      <td>0.14710</td>\n",
              "      <td>0.2419</td>\n",
              "      <td>0.07871</td>\n",
              "      <td>1.0950</td>\n",
              "      <td>0.9053</td>\n",
              "      <td>8.589</td>\n",
              "      <td>153.40</td>\n",
              "      <td>0.006399</td>\n",
              "      <td>0.04904</td>\n",
              "      <td>0.05373</td>\n",
              "      <td>0.01587</td>\n",
              "      <td>0.03003</td>\n",
              "      <td>0.006193</td>\n",
              "      <td>25.38</td>\n",
              "      <td>17.33</td>\n",
              "      <td>184.60</td>\n",
              "      <td>2019.0</td>\n",
              "      <td>0.1622</td>\n",
              "      <td>0.6656</td>\n",
              "      <td>0.7119</td>\n",
              "      <td>0.2654</td>\n",
              "      <td>0.4601</td>\n",
              "      <td>0.11890</td>\n",
              "    </tr>\n",
              "    <tr>\n",
              "      <th>842517</th>\n",
              "      <td>1</td>\n",
              "      <td>20.57</td>\n",
              "      <td>17.77</td>\n",
              "      <td>132.90</td>\n",
              "      <td>1326.0</td>\n",
              "      <td>0.08474</td>\n",
              "      <td>0.07864</td>\n",
              "      <td>0.0869</td>\n",
              "      <td>0.07017</td>\n",
              "      <td>0.1812</td>\n",
              "      <td>0.05667</td>\n",
              "      <td>0.5435</td>\n",
              "      <td>0.7339</td>\n",
              "      <td>3.398</td>\n",
              "      <td>74.08</td>\n",
              "      <td>0.005225</td>\n",
              "      <td>0.01308</td>\n",
              "      <td>0.01860</td>\n",
              "      <td>0.01340</td>\n",
              "      <td>0.01389</td>\n",
              "      <td>0.003532</td>\n",
              "      <td>24.99</td>\n",
              "      <td>23.41</td>\n",
              "      <td>158.80</td>\n",
              "      <td>1956.0</td>\n",
              "      <td>0.1238</td>\n",
              "      <td>0.1866</td>\n",
              "      <td>0.2416</td>\n",
              "      <td>0.1860</td>\n",
              "      <td>0.2750</td>\n",
              "      <td>0.08902</td>\n",
              "    </tr>\n",
              "    <tr>\n",
              "      <th>84300903</th>\n",
              "      <td>1</td>\n",
              "      <td>19.69</td>\n",
              "      <td>21.25</td>\n",
              "      <td>130.00</td>\n",
              "      <td>1203.0</td>\n",
              "      <td>0.10960</td>\n",
              "      <td>0.15990</td>\n",
              "      <td>0.1974</td>\n",
              "      <td>0.12790</td>\n",
              "      <td>0.2069</td>\n",
              "      <td>0.05999</td>\n",
              "      <td>0.7456</td>\n",
              "      <td>0.7869</td>\n",
              "      <td>4.585</td>\n",
              "      <td>94.03</td>\n",
              "      <td>0.006150</td>\n",
              "      <td>0.04006</td>\n",
              "      <td>0.03832</td>\n",
              "      <td>0.02058</td>\n",
              "      <td>0.02250</td>\n",
              "      <td>0.004571</td>\n",
              "      <td>23.57</td>\n",
              "      <td>25.53</td>\n",
              "      <td>152.50</td>\n",
              "      <td>1709.0</td>\n",
              "      <td>0.1444</td>\n",
              "      <td>0.4245</td>\n",
              "      <td>0.4504</td>\n",
              "      <td>0.2430</td>\n",
              "      <td>0.3613</td>\n",
              "      <td>0.08758</td>\n",
              "    </tr>\n",
              "    <tr>\n",
              "      <th>84348301</th>\n",
              "      <td>1</td>\n",
              "      <td>11.42</td>\n",
              "      <td>20.38</td>\n",
              "      <td>77.58</td>\n",
              "      <td>386.1</td>\n",
              "      <td>0.14250</td>\n",
              "      <td>0.28390</td>\n",
              "      <td>0.2414</td>\n",
              "      <td>0.10520</td>\n",
              "      <td>0.2597</td>\n",
              "      <td>0.09744</td>\n",
              "      <td>0.4956</td>\n",
              "      <td>1.1560</td>\n",
              "      <td>3.445</td>\n",
              "      <td>27.23</td>\n",
              "      <td>0.009110</td>\n",
              "      <td>0.07458</td>\n",
              "      <td>0.05661</td>\n",
              "      <td>0.01867</td>\n",
              "      <td>0.05963</td>\n",
              "      <td>0.009208</td>\n",
              "      <td>14.91</td>\n",
              "      <td>26.50</td>\n",
              "      <td>98.87</td>\n",
              "      <td>567.7</td>\n",
              "      <td>0.2098</td>\n",
              "      <td>0.8663</td>\n",
              "      <td>0.6869</td>\n",
              "      <td>0.2575</td>\n",
              "      <td>0.6638</td>\n",
              "      <td>0.17300</td>\n",
              "    </tr>\n",
              "    <tr>\n",
              "      <th>84358402</th>\n",
              "      <td>1</td>\n",
              "      <td>20.29</td>\n",
              "      <td>14.34</td>\n",
              "      <td>135.10</td>\n",
              "      <td>1297.0</td>\n",
              "      <td>0.10030</td>\n",
              "      <td>0.13280</td>\n",
              "      <td>0.1980</td>\n",
              "      <td>0.10430</td>\n",
              "      <td>0.1809</td>\n",
              "      <td>0.05883</td>\n",
              "      <td>0.7572</td>\n",
              "      <td>0.7813</td>\n",
              "      <td>5.438</td>\n",
              "      <td>94.44</td>\n",
              "      <td>0.011490</td>\n",
              "      <td>0.02461</td>\n",
              "      <td>0.05688</td>\n",
              "      <td>0.01885</td>\n",
              "      <td>0.01756</td>\n",
              "      <td>0.005115</td>\n",
              "      <td>22.54</td>\n",
              "      <td>16.67</td>\n",
              "      <td>152.20</td>\n",
              "      <td>1575.0</td>\n",
              "      <td>0.1374</td>\n",
              "      <td>0.2050</td>\n",
              "      <td>0.4000</td>\n",
              "      <td>0.1625</td>\n",
              "      <td>0.2364</td>\n",
              "      <td>0.07678</td>\n",
              "    </tr>\n",
              "  </tbody>\n",
              "</table>\n",
              "</div>"
            ],
            "text/plain": [
              "           diagnosis  radius_mean  texture_mean  perimeter_mean  area_mean  \\\n",
              "id_number                                                                    \n",
              "842302             1        17.99         10.38          122.80     1001.0   \n",
              "842517             1        20.57         17.77          132.90     1326.0   \n",
              "84300903           1        19.69         21.25          130.00     1203.0   \n",
              "84348301           1        11.42         20.38           77.58      386.1   \n",
              "84358402           1        20.29         14.34          135.10     1297.0   \n",
              "\n",
              "           smoothness_mean  compactness_mean  concavity_mean  \\\n",
              "id_number                                                      \n",
              "842302             0.11840           0.27760          0.3001   \n",
              "842517             0.08474           0.07864          0.0869   \n",
              "84300903           0.10960           0.15990          0.1974   \n",
              "84348301           0.14250           0.28390          0.2414   \n",
              "84358402           0.10030           0.13280          0.1980   \n",
              "\n",
              "           concave_points_mean  symmetry_mean  fractal_dimension_mean  \\\n",
              "id_number                                                               \n",
              "842302                 0.14710         0.2419                 0.07871   \n",
              "842517                 0.07017         0.1812                 0.05667   \n",
              "84300903               0.12790         0.2069                 0.05999   \n",
              "84348301               0.10520         0.2597                 0.09744   \n",
              "84358402               0.10430         0.1809                 0.05883   \n",
              "\n",
              "           radius_se  texture_se  perimeter_se  area_se  smoothness_se  \\\n",
              "id_number                                                                \n",
              "842302        1.0950      0.9053         8.589   153.40       0.006399   \n",
              "842517        0.5435      0.7339         3.398    74.08       0.005225   \n",
              "84300903      0.7456      0.7869         4.585    94.03       0.006150   \n",
              "84348301      0.4956      1.1560         3.445    27.23       0.009110   \n",
              "84358402      0.7572      0.7813         5.438    94.44       0.011490   \n",
              "\n",
              "           compactness_se  concavity_se  concave_points_se  symmetry_se  \\\n",
              "id_number                                                                 \n",
              "842302            0.04904       0.05373            0.01587      0.03003   \n",
              "842517            0.01308       0.01860            0.01340      0.01389   \n",
              "84300903          0.04006       0.03832            0.02058      0.02250   \n",
              "84348301          0.07458       0.05661            0.01867      0.05963   \n",
              "84358402          0.02461       0.05688            0.01885      0.01756   \n",
              "\n",
              "           fractal_dimension_se  radius_worst  texture_worst  perimeter_worst  \\\n",
              "id_number                                                                       \n",
              "842302                 0.006193         25.38          17.33           184.60   \n",
              "842517                 0.003532         24.99          23.41           158.80   \n",
              "84300903               0.004571         23.57          25.53           152.50   \n",
              "84348301               0.009208         14.91          26.50            98.87   \n",
              "84358402               0.005115         22.54          16.67           152.20   \n",
              "\n",
              "           area_worst  smoothness_worst  compactness_worst  concavity_worst  \\\n",
              "id_number                                                                     \n",
              "842302         2019.0            0.1622             0.6656           0.7119   \n",
              "842517         1956.0            0.1238             0.1866           0.2416   \n",
              "84300903       1709.0            0.1444             0.4245           0.4504   \n",
              "84348301        567.7            0.2098             0.8663           0.6869   \n",
              "84358402       1575.0            0.1374             0.2050           0.4000   \n",
              "\n",
              "           concave_points_worst  symmetry_worst  fractal_dimension_worst  \n",
              "id_number                                                                 \n",
              "842302                   0.2654          0.4601                  0.11890  \n",
              "842517                   0.1860          0.2750                  0.08902  \n",
              "84300903                 0.2430          0.3613                  0.08758  \n",
              "84348301                 0.2575          0.6638                  0.17300  \n",
              "84358402                 0.1625          0.2364                  0.07678  "
            ]
          },
          "metadata": {
            "tags": []
          },
          "execution_count": 44
        }
      ]
    },
    {
      "cell_type": "markdown",
      "metadata": {
        "id": "6zLQjpYBu0ZP",
        "colab_type": "text"
      },
      "source": [
        "Next, let's get the dimensions of the data set. The first value is the number of patients and the second value is the number of features. It's important to print the data types of your data set, as it will often be an indicator of missing data — and provide context for additional data cleaning."
      ]
    },
    {
      "cell_type": "code",
      "metadata": {
        "id": "lfN3RRE5uxX2",
        "colab_type": "code",
        "colab": {
          "base_uri": "https://localhost:8080/",
          "height": 612
        },
        "outputId": "45f302fb-15d0-46d5-c9e3-289738eac62b"
      },
      "source": [
        "print(\"Here's the dimensions of our data frame:\\n\",\n",
        "     breast_cancer.shape)\n",
        "print(\"Here's the data types of our columns:\\n\",\n",
        "     breast_cancer.dtypes)"
      ],
      "execution_count": 45,
      "outputs": [
        {
          "output_type": "stream",
          "text": [
            "Here's the dimensions of our data frame:\n",
            " (569, 31)\n",
            "Here's the data types of our columns:\n",
            " diagnosis                    int64\n",
            "radius_mean                float64\n",
            "texture_mean               float64\n",
            "perimeter_mean             float64\n",
            "area_mean                  float64\n",
            "smoothness_mean            float64\n",
            "compactness_mean           float64\n",
            "concavity_mean             float64\n",
            "concave_points_mean        float64\n",
            "symmetry_mean              float64\n",
            "fractal_dimension_mean     float64\n",
            "radius_se                  float64\n",
            "texture_se                 float64\n",
            "perimeter_se               float64\n",
            "area_se                    float64\n",
            "smoothness_se              float64\n",
            "compactness_se             float64\n",
            "concavity_se               float64\n",
            "concave_points_se          float64\n",
            "symmetry_se                float64\n",
            "fractal_dimension_se       float64\n",
            "radius_worst               float64\n",
            "texture_worst              float64\n",
            "perimeter_worst            float64\n",
            "area_worst                 float64\n",
            "smoothness_worst           float64\n",
            "compactness_worst          float64\n",
            "concavity_worst            float64\n",
            "concave_points_worst       float64\n",
            "symmetry_worst             float64\n",
            "fractal_dimension_worst    float64\n",
            "dtype: object\n"
          ],
          "name": "stdout"
        }
      ]
    },
    {
      "cell_type": "markdown",
      "metadata": {
        "id": "T14KSkKWu6YG",
        "colab_type": "text"
      },
      "source": [
        "# Class Imbalance"
      ]
    },
    {
      "cell_type": "markdown",
      "metadata": {
        "id": "I7inDycbu9QV",
        "colab_type": "text"
      },
      "source": [
        "The distribution of diagnoses is important because it speaks to class imbalance within machine learning and data mining applications. Class imbalance is a term used to describe when a target class within a data set is outnumbered by another target class (or classes). This can create misleading accuracy metrics, known as an accuracy paradox. To make sure our target classes aren't imbalanced, create a function that will output the distribution of the target classes.\n",
        "\n",
        "**Note**: If your data set suffers from class imbalance, I suggest reading up on upsampling and downsampling."
      ]
    },
    {
      "cell_type": "code",
      "metadata": {
        "id": "PemZ60c7u2m6",
        "colab_type": "code",
        "colab": {}
      },
      "source": [
        "def print_dx_perc(data_frame, col):\n",
        "    \"\"\"Function used to print class distribution for our data set\"\"\"\n",
        "    dx_vals = data_frame[col].value_counts()\n",
        "    dx_vals = dx_vals.reset_index()\n",
        "    # Create a function to output the percentage\n",
        "    f = lambda x, y: 100 * (x / sum(y))\n",
        "    for i in range(0, len(dx)):\n",
        "        print('{0} accounts for {1:.2f}% of the diagnosis class'\\\n",
        "          .format(dx[i], f(dx_vals[col].iloc[i],\n",
        "                           dx_vals[col])))"
      ],
      "execution_count": 0,
      "outputs": []
    },
    {
      "cell_type": "code",
      "metadata": {
        "id": "OF_xODOGvDHN",
        "colab_type": "code",
        "colab": {
          "base_uri": "https://localhost:8080/",
          "height": 51
        },
        "outputId": "73a9fc4e-019e-44cc-9aa6-456a7297cc98"
      },
      "source": [
        "print_dx_perc(breast_cancer, 'diagnosis')"
      ],
      "execution_count": 47,
      "outputs": [
        {
          "output_type": "stream",
          "text": [
            "Benign accounts for 62.74% of the diagnosis class\n",
            "Malignant accounts for 37.26% of the diagnosis class\n"
          ],
          "name": "stdout"
        }
      ]
    },
    {
      "cell_type": "markdown",
      "metadata": {
        "id": "andRpcljvHPz",
        "colab_type": "text"
      },
      "source": [
        "Benign results account for 62.74% of the diagnosis class. Malignant results account for 37.26% of the diagnosis class. Fortunately, this data set does not suffer from class imbalance.\n",
        "\n",
        "Next, we will employ a function that gives us standard descriptive statistics for each feature including mean, standard deviation, minimum value, maximum value, and range intervals.\n",
        "\n"
      ]
    },
    {
      "cell_type": "code",
      "metadata": {
        "id": "5oGEGCttvFha",
        "colab_type": "code",
        "colab": {
          "base_uri": "https://localhost:8080/",
          "height": 317
        },
        "outputId": "1996cdb9-c070-44b5-8aa0-f2d097050f37"
      },
      "source": [
        "breast_cancer.describe()"
      ],
      "execution_count": 48,
      "outputs": [
        {
          "output_type": "execute_result",
          "data": {
            "text/html": [
              "<div>\n",
              "<style scoped>\n",
              "    .dataframe tbody tr th:only-of-type {\n",
              "        vertical-align: middle;\n",
              "    }\n",
              "\n",
              "    .dataframe tbody tr th {\n",
              "        vertical-align: top;\n",
              "    }\n",
              "\n",
              "    .dataframe thead th {\n",
              "        text-align: right;\n",
              "    }\n",
              "</style>\n",
              "<table border=\"1\" class=\"dataframe\">\n",
              "  <thead>\n",
              "    <tr style=\"text-align: right;\">\n",
              "      <th></th>\n",
              "      <th>diagnosis</th>\n",
              "      <th>radius_mean</th>\n",
              "      <th>texture_mean</th>\n",
              "      <th>perimeter_mean</th>\n",
              "      <th>area_mean</th>\n",
              "      <th>smoothness_mean</th>\n",
              "      <th>compactness_mean</th>\n",
              "      <th>concavity_mean</th>\n",
              "      <th>concave_points_mean</th>\n",
              "      <th>symmetry_mean</th>\n",
              "      <th>fractal_dimension_mean</th>\n",
              "      <th>radius_se</th>\n",
              "      <th>texture_se</th>\n",
              "      <th>perimeter_se</th>\n",
              "      <th>area_se</th>\n",
              "      <th>smoothness_se</th>\n",
              "      <th>compactness_se</th>\n",
              "      <th>concavity_se</th>\n",
              "      <th>concave_points_se</th>\n",
              "      <th>symmetry_se</th>\n",
              "      <th>fractal_dimension_se</th>\n",
              "      <th>radius_worst</th>\n",
              "      <th>texture_worst</th>\n",
              "      <th>perimeter_worst</th>\n",
              "      <th>area_worst</th>\n",
              "      <th>smoothness_worst</th>\n",
              "      <th>compactness_worst</th>\n",
              "      <th>concavity_worst</th>\n",
              "      <th>concave_points_worst</th>\n",
              "      <th>symmetry_worst</th>\n",
              "      <th>fractal_dimension_worst</th>\n",
              "    </tr>\n",
              "  </thead>\n",
              "  <tbody>\n",
              "    <tr>\n",
              "      <th>count</th>\n",
              "      <td>569.000000</td>\n",
              "      <td>569.000000</td>\n",
              "      <td>569.000000</td>\n",
              "      <td>569.000000</td>\n",
              "      <td>569.000000</td>\n",
              "      <td>569.000000</td>\n",
              "      <td>569.000000</td>\n",
              "      <td>569.000000</td>\n",
              "      <td>569.000000</td>\n",
              "      <td>569.000000</td>\n",
              "      <td>569.000000</td>\n",
              "      <td>569.000000</td>\n",
              "      <td>569.000000</td>\n",
              "      <td>569.000000</td>\n",
              "      <td>569.000000</td>\n",
              "      <td>569.000000</td>\n",
              "      <td>569.000000</td>\n",
              "      <td>569.000000</td>\n",
              "      <td>569.000000</td>\n",
              "      <td>569.000000</td>\n",
              "      <td>569.000000</td>\n",
              "      <td>569.000000</td>\n",
              "      <td>569.000000</td>\n",
              "      <td>569.000000</td>\n",
              "      <td>569.000000</td>\n",
              "      <td>569.000000</td>\n",
              "      <td>569.000000</td>\n",
              "      <td>569.000000</td>\n",
              "      <td>569.000000</td>\n",
              "      <td>569.000000</td>\n",
              "      <td>569.000000</td>\n",
              "    </tr>\n",
              "    <tr>\n",
              "      <th>mean</th>\n",
              "      <td>0.372583</td>\n",
              "      <td>14.127292</td>\n",
              "      <td>19.289649</td>\n",
              "      <td>91.969033</td>\n",
              "      <td>654.889104</td>\n",
              "      <td>0.096360</td>\n",
              "      <td>0.104341</td>\n",
              "      <td>0.088799</td>\n",
              "      <td>0.048919</td>\n",
              "      <td>0.181162</td>\n",
              "      <td>0.062798</td>\n",
              "      <td>0.405172</td>\n",
              "      <td>1.216853</td>\n",
              "      <td>2.866059</td>\n",
              "      <td>40.337079</td>\n",
              "      <td>0.007041</td>\n",
              "      <td>0.025478</td>\n",
              "      <td>0.031894</td>\n",
              "      <td>0.011796</td>\n",
              "      <td>0.020542</td>\n",
              "      <td>0.003795</td>\n",
              "      <td>16.269190</td>\n",
              "      <td>25.677223</td>\n",
              "      <td>107.261213</td>\n",
              "      <td>880.583128</td>\n",
              "      <td>0.132369</td>\n",
              "      <td>0.254265</td>\n",
              "      <td>0.272188</td>\n",
              "      <td>0.114606</td>\n",
              "      <td>0.290076</td>\n",
              "      <td>0.083946</td>\n",
              "    </tr>\n",
              "    <tr>\n",
              "      <th>std</th>\n",
              "      <td>0.483918</td>\n",
              "      <td>3.524049</td>\n",
              "      <td>4.301036</td>\n",
              "      <td>24.298981</td>\n",
              "      <td>351.914129</td>\n",
              "      <td>0.014064</td>\n",
              "      <td>0.052813</td>\n",
              "      <td>0.079720</td>\n",
              "      <td>0.038803</td>\n",
              "      <td>0.027414</td>\n",
              "      <td>0.007060</td>\n",
              "      <td>0.277313</td>\n",
              "      <td>0.551648</td>\n",
              "      <td>2.021855</td>\n",
              "      <td>45.491006</td>\n",
              "      <td>0.003003</td>\n",
              "      <td>0.017908</td>\n",
              "      <td>0.030186</td>\n",
              "      <td>0.006170</td>\n",
              "      <td>0.008266</td>\n",
              "      <td>0.002646</td>\n",
              "      <td>4.833242</td>\n",
              "      <td>6.146258</td>\n",
              "      <td>33.602542</td>\n",
              "      <td>569.356993</td>\n",
              "      <td>0.022832</td>\n",
              "      <td>0.157336</td>\n",
              "      <td>0.208624</td>\n",
              "      <td>0.065732</td>\n",
              "      <td>0.061867</td>\n",
              "      <td>0.018061</td>\n",
              "    </tr>\n",
              "    <tr>\n",
              "      <th>min</th>\n",
              "      <td>0.000000</td>\n",
              "      <td>6.981000</td>\n",
              "      <td>9.710000</td>\n",
              "      <td>43.790000</td>\n",
              "      <td>143.500000</td>\n",
              "      <td>0.052630</td>\n",
              "      <td>0.019380</td>\n",
              "      <td>0.000000</td>\n",
              "      <td>0.000000</td>\n",
              "      <td>0.106000</td>\n",
              "      <td>0.049960</td>\n",
              "      <td>0.111500</td>\n",
              "      <td>0.360200</td>\n",
              "      <td>0.757000</td>\n",
              "      <td>6.802000</td>\n",
              "      <td>0.001713</td>\n",
              "      <td>0.002252</td>\n",
              "      <td>0.000000</td>\n",
              "      <td>0.000000</td>\n",
              "      <td>0.007882</td>\n",
              "      <td>0.000895</td>\n",
              "      <td>7.930000</td>\n",
              "      <td>12.020000</td>\n",
              "      <td>50.410000</td>\n",
              "      <td>185.200000</td>\n",
              "      <td>0.071170</td>\n",
              "      <td>0.027290</td>\n",
              "      <td>0.000000</td>\n",
              "      <td>0.000000</td>\n",
              "      <td>0.156500</td>\n",
              "      <td>0.055040</td>\n",
              "    </tr>\n",
              "    <tr>\n",
              "      <th>25%</th>\n",
              "      <td>0.000000</td>\n",
              "      <td>11.700000</td>\n",
              "      <td>16.170000</td>\n",
              "      <td>75.170000</td>\n",
              "      <td>420.300000</td>\n",
              "      <td>0.086370</td>\n",
              "      <td>0.064920</td>\n",
              "      <td>0.029560</td>\n",
              "      <td>0.020310</td>\n",
              "      <td>0.161900</td>\n",
              "      <td>0.057700</td>\n",
              "      <td>0.232400</td>\n",
              "      <td>0.833900</td>\n",
              "      <td>1.606000</td>\n",
              "      <td>17.850000</td>\n",
              "      <td>0.005169</td>\n",
              "      <td>0.013080</td>\n",
              "      <td>0.015090</td>\n",
              "      <td>0.007638</td>\n",
              "      <td>0.015160</td>\n",
              "      <td>0.002248</td>\n",
              "      <td>13.010000</td>\n",
              "      <td>21.080000</td>\n",
              "      <td>84.110000</td>\n",
              "      <td>515.300000</td>\n",
              "      <td>0.116600</td>\n",
              "      <td>0.147200</td>\n",
              "      <td>0.114500</td>\n",
              "      <td>0.064930</td>\n",
              "      <td>0.250400</td>\n",
              "      <td>0.071460</td>\n",
              "    </tr>\n",
              "    <tr>\n",
              "      <th>50%</th>\n",
              "      <td>0.000000</td>\n",
              "      <td>13.370000</td>\n",
              "      <td>18.840000</td>\n",
              "      <td>86.240000</td>\n",
              "      <td>551.100000</td>\n",
              "      <td>0.095870</td>\n",
              "      <td>0.092630</td>\n",
              "      <td>0.061540</td>\n",
              "      <td>0.033500</td>\n",
              "      <td>0.179200</td>\n",
              "      <td>0.061540</td>\n",
              "      <td>0.324200</td>\n",
              "      <td>1.108000</td>\n",
              "      <td>2.287000</td>\n",
              "      <td>24.530000</td>\n",
              "      <td>0.006380</td>\n",
              "      <td>0.020450</td>\n",
              "      <td>0.025890</td>\n",
              "      <td>0.010930</td>\n",
              "      <td>0.018730</td>\n",
              "      <td>0.003187</td>\n",
              "      <td>14.970000</td>\n",
              "      <td>25.410000</td>\n",
              "      <td>97.660000</td>\n",
              "      <td>686.500000</td>\n",
              "      <td>0.131300</td>\n",
              "      <td>0.211900</td>\n",
              "      <td>0.226700</td>\n",
              "      <td>0.099930</td>\n",
              "      <td>0.282200</td>\n",
              "      <td>0.080040</td>\n",
              "    </tr>\n",
              "    <tr>\n",
              "      <th>75%</th>\n",
              "      <td>1.000000</td>\n",
              "      <td>15.780000</td>\n",
              "      <td>21.800000</td>\n",
              "      <td>104.100000</td>\n",
              "      <td>782.700000</td>\n",
              "      <td>0.105300</td>\n",
              "      <td>0.130400</td>\n",
              "      <td>0.130700</td>\n",
              "      <td>0.074000</td>\n",
              "      <td>0.195700</td>\n",
              "      <td>0.066120</td>\n",
              "      <td>0.478900</td>\n",
              "      <td>1.474000</td>\n",
              "      <td>3.357000</td>\n",
              "      <td>45.190000</td>\n",
              "      <td>0.008146</td>\n",
              "      <td>0.032450</td>\n",
              "      <td>0.042050</td>\n",
              "      <td>0.014710</td>\n",
              "      <td>0.023480</td>\n",
              "      <td>0.004558</td>\n",
              "      <td>18.790000</td>\n",
              "      <td>29.720000</td>\n",
              "      <td>125.400000</td>\n",
              "      <td>1084.000000</td>\n",
              "      <td>0.146000</td>\n",
              "      <td>0.339100</td>\n",
              "      <td>0.382900</td>\n",
              "      <td>0.161400</td>\n",
              "      <td>0.317900</td>\n",
              "      <td>0.092080</td>\n",
              "    </tr>\n",
              "    <tr>\n",
              "      <th>max</th>\n",
              "      <td>1.000000</td>\n",
              "      <td>28.110000</td>\n",
              "      <td>39.280000</td>\n",
              "      <td>188.500000</td>\n",
              "      <td>2501.000000</td>\n",
              "      <td>0.163400</td>\n",
              "      <td>0.345400</td>\n",
              "      <td>0.426800</td>\n",
              "      <td>0.201200</td>\n",
              "      <td>0.304000</td>\n",
              "      <td>0.097440</td>\n",
              "      <td>2.873000</td>\n",
              "      <td>4.885000</td>\n",
              "      <td>21.980000</td>\n",
              "      <td>542.200000</td>\n",
              "      <td>0.031130</td>\n",
              "      <td>0.135400</td>\n",
              "      <td>0.396000</td>\n",
              "      <td>0.052790</td>\n",
              "      <td>0.078950</td>\n",
              "      <td>0.029840</td>\n",
              "      <td>36.040000</td>\n",
              "      <td>49.540000</td>\n",
              "      <td>251.200000</td>\n",
              "      <td>4254.000000</td>\n",
              "      <td>0.222600</td>\n",
              "      <td>1.058000</td>\n",
              "      <td>1.252000</td>\n",
              "      <td>0.291000</td>\n",
              "      <td>0.663800</td>\n",
              "      <td>0.207500</td>\n",
              "    </tr>\n",
              "  </tbody>\n",
              "</table>\n",
              "</div>"
            ],
            "text/plain": [
              "        diagnosis  radius_mean  texture_mean  perimeter_mean    area_mean  \\\n",
              "count  569.000000   569.000000    569.000000      569.000000   569.000000   \n",
              "mean     0.372583    14.127292     19.289649       91.969033   654.889104   \n",
              "std      0.483918     3.524049      4.301036       24.298981   351.914129   \n",
              "min      0.000000     6.981000      9.710000       43.790000   143.500000   \n",
              "25%      0.000000    11.700000     16.170000       75.170000   420.300000   \n",
              "50%      0.000000    13.370000     18.840000       86.240000   551.100000   \n",
              "75%      1.000000    15.780000     21.800000      104.100000   782.700000   \n",
              "max      1.000000    28.110000     39.280000      188.500000  2501.000000   \n",
              "\n",
              "       smoothness_mean  compactness_mean  concavity_mean  concave_points_mean  \\\n",
              "count       569.000000        569.000000      569.000000           569.000000   \n",
              "mean          0.096360          0.104341        0.088799             0.048919   \n",
              "std           0.014064          0.052813        0.079720             0.038803   \n",
              "min           0.052630          0.019380        0.000000             0.000000   \n",
              "25%           0.086370          0.064920        0.029560             0.020310   \n",
              "50%           0.095870          0.092630        0.061540             0.033500   \n",
              "75%           0.105300          0.130400        0.130700             0.074000   \n",
              "max           0.163400          0.345400        0.426800             0.201200   \n",
              "\n",
              "       symmetry_mean  fractal_dimension_mean   radius_se  texture_se  \\\n",
              "count     569.000000              569.000000  569.000000  569.000000   \n",
              "mean        0.181162                0.062798    0.405172    1.216853   \n",
              "std         0.027414                0.007060    0.277313    0.551648   \n",
              "min         0.106000                0.049960    0.111500    0.360200   \n",
              "25%         0.161900                0.057700    0.232400    0.833900   \n",
              "50%         0.179200                0.061540    0.324200    1.108000   \n",
              "75%         0.195700                0.066120    0.478900    1.474000   \n",
              "max         0.304000                0.097440    2.873000    4.885000   \n",
              "\n",
              "       perimeter_se     area_se  smoothness_se  compactness_se  concavity_se  \\\n",
              "count    569.000000  569.000000     569.000000      569.000000    569.000000   \n",
              "mean       2.866059   40.337079       0.007041        0.025478      0.031894   \n",
              "std        2.021855   45.491006       0.003003        0.017908      0.030186   \n",
              "min        0.757000    6.802000       0.001713        0.002252      0.000000   \n",
              "25%        1.606000   17.850000       0.005169        0.013080      0.015090   \n",
              "50%        2.287000   24.530000       0.006380        0.020450      0.025890   \n",
              "75%        3.357000   45.190000       0.008146        0.032450      0.042050   \n",
              "max       21.980000  542.200000       0.031130        0.135400      0.396000   \n",
              "\n",
              "       concave_points_se  symmetry_se  fractal_dimension_se  radius_worst  \\\n",
              "count         569.000000   569.000000            569.000000    569.000000   \n",
              "mean            0.011796     0.020542              0.003795     16.269190   \n",
              "std             0.006170     0.008266              0.002646      4.833242   \n",
              "min             0.000000     0.007882              0.000895      7.930000   \n",
              "25%             0.007638     0.015160              0.002248     13.010000   \n",
              "50%             0.010930     0.018730              0.003187     14.970000   \n",
              "75%             0.014710     0.023480              0.004558     18.790000   \n",
              "max             0.052790     0.078950              0.029840     36.040000   \n",
              "\n",
              "       texture_worst  perimeter_worst   area_worst  smoothness_worst  \\\n",
              "count     569.000000       569.000000   569.000000        569.000000   \n",
              "mean       25.677223       107.261213   880.583128          0.132369   \n",
              "std         6.146258        33.602542   569.356993          0.022832   \n",
              "min        12.020000        50.410000   185.200000          0.071170   \n",
              "25%        21.080000        84.110000   515.300000          0.116600   \n",
              "50%        25.410000        97.660000   686.500000          0.131300   \n",
              "75%        29.720000       125.400000  1084.000000          0.146000   \n",
              "max        49.540000       251.200000  4254.000000          0.222600   \n",
              "\n",
              "       compactness_worst  concavity_worst  concave_points_worst  \\\n",
              "count         569.000000       569.000000            569.000000   \n",
              "mean            0.254265         0.272188              0.114606   \n",
              "std             0.157336         0.208624              0.065732   \n",
              "min             0.027290         0.000000              0.000000   \n",
              "25%             0.147200         0.114500              0.064930   \n",
              "50%             0.211900         0.226700              0.099930   \n",
              "75%             0.339100         0.382900              0.161400   \n",
              "max             1.058000         1.252000              0.291000   \n",
              "\n",
              "       symmetry_worst  fractal_dimension_worst  \n",
              "count      569.000000               569.000000  \n",
              "mean         0.290076                 0.083946  \n",
              "std          0.061867                 0.018061  \n",
              "min          0.156500                 0.055040  \n",
              "25%          0.250400                 0.071460  \n",
              "50%          0.282200                 0.080040  \n",
              "75%          0.317900                 0.092080  \n",
              "max          0.663800                 0.207500  "
            ]
          },
          "metadata": {
            "tags": []
          },
          "execution_count": 48
        }
      ]
    },
    {
      "cell_type": "markdown",
      "metadata": {
        "id": "xhaqS2r0vU0a",
        "colab_type": "text"
      },
      "source": [
        "You can see in the maximum row of the chart that our data varies in distribution; this will be important as we consider classification models. Standardization is an important requirement for many classification models that should be handled when implementing pre-processing. Some models (like [neural networks](https://www.datascience.com/resources/webinars/introduction-to-neural-nets-with-the-data-incubator)) can perform poorly if pre-processing isn't considered, so the **describe()** function is a good indicator for standardization. Fortunately, random forest does not require any pre-processing. (For use of categorical data, see sklearn's [Encoding Categorical Data](http://scikit-learn.org/stable/modules/preprocessing.html#encoding-categorical-features).)"
      ]
    },
    {
      "cell_type": "markdown",
      "metadata": {
        "id": "DphJleTFvfIw",
        "colab_type": "text"
      },
      "source": [
        "# Creating Training and Test Sets"
      ]
    },
    {
      "cell_type": "markdown",
      "metadata": {
        "id": "-4Od8k16vhxS",
        "colab_type": "text"
      },
      "source": [
        "Let's split the data set into our training and test sets, which will be pseudo-randomly selected to create a 80-20% split. You will use the training set to train the model and perform some optimization. You will use the test set, which will act as unseen data, to assess model performance.\n",
        "\n",
        "When using this method for machine learning, always be wary of utilizing your test set to create models. Data leakage is a common problem that can result in overfitting. More on data leakage can be found in this [Kaggle article](https://www.kaggle.com/wiki/Leakage)."
      ]
    },
    {
      "cell_type": "code",
      "metadata": {
        "id": "tMh1Npn9vLjM",
        "colab_type": "code",
        "colab": {}
      },
      "source": [
        "feature_space = breast_cancer.iloc[:, breast_cancer.columns != 'diagnosis']\n",
        "feature_class = breast_cancer.iloc[:, breast_cancer.columns == 'diagnosis']\n",
        "\n",
        "\n",
        "training_set, test_set, class_set, test_class_set = train_test_split(feature_space,\n",
        "                                                                    feature_class,\n",
        "                                                                    test_size = 0.20,\n",
        "                                                                    random_state = 42)"
      ],
      "execution_count": 0,
      "outputs": []
    },
    {
      "cell_type": "markdown",
      "metadata": {
        "id": "yNxBeFgjvpsL",
        "colab_type": "text"
      },
      "source": [
        "**Note**: What I mean when I say that we will \"pseudo-randomly\" select data is that we will use a random seed generator and set it equal to a number of our choosing. This will ensure the results are the same for anyone who uses this generator, and therefore, that they will be able to replicate this project. "
      ]
    },
    {
      "cell_type": "code",
      "metadata": {
        "id": "QpwUpucDvozN",
        "colab_type": "code",
        "colab": {}
      },
      "source": [
        "# Cleaning test sets to avoid future warning messages\n",
        "class_set = class_set.values.ravel()\n",
        "test_class_set = test_class_set.values.ravel()"
      ],
      "execution_count": 0,
      "outputs": []
    },
    {
      "cell_type": "markdown",
      "metadata": {
        "id": "zw3Yo-cLvv15",
        "colab_type": "text"
      },
      "source": [
        "# Fitting Random Forest"
      ]
    },
    {
      "cell_type": "markdown",
      "metadata": {
        "id": "HNxii4hQv0os",
        "colab_type": "text"
      },
      "source": [
        "Now, let's create the model, starting with parameter tuning. Here are the parameters we will be tuning in this tutorial: \n",
        "\n",
        "* **max_depth**: The maximum splits for all trees in the forest.\n",
        "* **bootstrap**: An indicator of whether or not we want to use bootstrap samples when building trees.\n",
        "* **max_features**: The maximum number of features that will be used in node splitting — the main difference I previously mentioned between bagging trees and random forest. Typically, you want a value that is less than p, where p is all features in your data set.\n",
        "* **criterion**: This is the metric used to asses the stopping criteria for the decision trees.\n",
        "Once we've instantiated our model, we will go ahead and tune our parameters."
      ]
    },
    {
      "cell_type": "code",
      "metadata": {
        "id": "Rx43CfzxvvTi",
        "colab_type": "code",
        "colab": {}
      },
      "source": [
        "# Set the random state for reproductibility\n",
        "fit_rf = RandomForestClassifier(random_state=42, n_estimators = 100)"
      ],
      "execution_count": 0,
      "outputs": []
    },
    {
      "cell_type": "markdown",
      "metadata": {
        "id": "1gx64hzywF7d",
        "colab_type": "text"
      },
      "source": [
        "# Hyperparameter Optimization"
      ]
    },
    {
      "cell_type": "markdown",
      "metadata": {
        "id": "X_mSAeDAwJWt",
        "colab_type": "text"
      },
      "source": [
        "Utilizing the **GridSearchCV** functionality, let's create a dictionary with parameters we are looking to optimize to create the best model for our data. Setting the **n_jobs** to 3 tells the grid search to run three jobs in parallel, reducing the time the function will take to compute the best parameters. I included the timer to see how long different jobs took; that led me to ultimately decide to use three parallel jobs.\n",
        "\n",
        "This will help set the parameters we will use to tune one final parameter: the number of trees in our forest."
      ]
    },
    {
      "cell_type": "code",
      "metadata": {
        "id": "p0HzKQVgwCcE",
        "colab_type": "code",
        "colab": {
          "base_uri": "https://localhost:8080/",
          "height": 68
        },
        "outputId": "8a1984ed-9268-4b87-9a86-43898a89b872"
      },
      "source": [
        "np.random.seed(42)\n",
        "start = time.time()\n",
        "\n",
        "param_dist = {'max_depth': [2, 3, 4],\n",
        "              'bootstrap': [True, False],\n",
        "              'max_features': ['auto', 'sqrt', 'log2', None],\n",
        "              'criterion': ['gini', 'entropy']}\n",
        "\n",
        "cv_rf = GridSearchCV(fit_rf, cv = 10,\n",
        "                     param_grid=param_dist,\n",
        "                     n_jobs = 3, iid = True)\n",
        "\n",
        "cv_rf.fit(training_set, class_set)\n",
        "print('Best Parameters using grid search: \\n',\n",
        "      cv_rf.best_params_)\n",
        "end = time.time()\n",
        "print('Time taken in grid search: {0: .2f}'.format(end - start))"
      ],
      "execution_count": 52,
      "outputs": [
        {
          "output_type": "stream",
          "text": [
            "Best Parameters using grid search: \n",
            " {'bootstrap': True, 'criterion': 'entropy', 'max_depth': 4, 'max_features': 'log2'}\n",
            "Time taken in grid search:  82.97\n"
          ],
          "name": "stdout"
        }
      ]
    },
    {
      "cell_type": "markdown",
      "metadata": {
        "id": "Zofo5uRcxbc-",
        "colab_type": "text"
      },
      "source": [
        "Once we find the best parameter combination, we can set the parameters to our model.\n",
        "\n",
        "Notice how I didn't use the **bootstrap: True** parameter. I will explain why in the following section."
      ]
    },
    {
      "cell_type": "code",
      "metadata": {
        "id": "bA3pIBh6wSy5",
        "colab_type": "code",
        "colab": {
          "base_uri": "https://localhost:8080/",
          "height": 136
        },
        "outputId": "9a2da949-cab4-4fab-9c3b-3433fde6b808"
      },
      "source": [
        "# Set best parameters given by grid search\n",
        "fit_rf.set_params(criterion = 'entropy',\n",
        "                  max_features = 'log2',\n",
        "                  max_depth = 4)"
      ],
      "execution_count": 53,
      "outputs": [
        {
          "output_type": "execute_result",
          "data": {
            "text/plain": [
              "RandomForestClassifier(bootstrap=True, class_weight=None, criterion='entropy',\n",
              "                       max_depth=4, max_features='log2', max_leaf_nodes=None,\n",
              "                       min_impurity_decrease=0.0, min_impurity_split=None,\n",
              "                       min_samples_leaf=1, min_samples_split=2,\n",
              "                       min_weight_fraction_leaf=0.0, n_estimators=100,\n",
              "                       n_jobs=None, oob_score=False, random_state=42, verbose=0,\n",
              "                       warm_start=False)"
            ]
          },
          "metadata": {
            "tags": []
          },
          "execution_count": 53
        }
      ]
    },
    {
      "cell_type": "markdown",
      "metadata": {
        "id": "BbWcMhZ-xj9l",
        "colab_type": "text"
      },
      "source": [
        "# Out-of-Bag Error Rate"
      ]
    },
    {
      "cell_type": "markdown",
      "metadata": {
        "id": "pyOAKL7sxm36",
        "colab_type": "text"
      },
      "source": [
        "Another useful feature of random forest is the concept of an out-of-bag (OOB) error rate. Because only two-thirds of the data are used to train each tree when building the forest, one-third of unseen data can be used in a way that is advantageous to our accuracy metrics without being as computationally expensive as something like cross validation, for instance.\n",
        "\n",
        "As outlined below, when calculating OOB, two parameters have to be changed. Also, by utilizing a **for-loop** across a multitude of forest sizes, we can calculate the OOB error rate and use it to asses how many trees are appropriate for our model!\n",
        "\n",
        "**Note**: When calculating the OOB score, setting **bootstrap: True** will produce errors, but it is necessary to complete the **oob_score** calculation, as outlined in this [example](http://scikit-learn.org/stable/auto_examples/ensemble/plot_ensemble_oob.html).\n",
        "\n",
        "For the original analysis I compared k-nearest neighbors, random forest, and [neural networks](https://www.datascience.com/resources/webinars/introduction-to-neural-nets-part-2), so most of the analysis was done to compare across different models."
      ]
    },
    {
      "cell_type": "code",
      "metadata": {
        "id": "jXreNlB4xmKI",
        "colab_type": "code",
        "colab": {}
      },
      "source": [
        "fit_rf.set_params(warm_start=True,\n",
        "                  oob_score=True)\n",
        "\n",
        "min_estimators = 15\n",
        "max_estimators = 1000\n",
        "\n",
        "error_rate = {}\n",
        "\n",
        "for i in range(min_estimators, max_estimators + 1):\n",
        "    fit_rf.set_params(n_estimators=i)\n",
        "    fit_rf.fit(training_set, class_set)\n",
        "\n",
        "    oob_error = 1 - fit_rf.oob_score_\n",
        "    error_rate[i] = oob_error"
      ],
      "execution_count": 0,
      "outputs": []
    },
    {
      "cell_type": "code",
      "metadata": {
        "id": "o2qMqhA1yCaE",
        "colab_type": "code",
        "colab": {}
      },
      "source": [
        "# Convert dictionary to a pandas series for easy plotting\n",
        "oob_series = pd.Series(error_rate)"
      ],
      "execution_count": 0,
      "outputs": []
    },
    {
      "cell_type": "code",
      "metadata": {
        "id": "FcRmbJsxyD5T",
        "colab_type": "code",
        "colab": {
          "base_uri": "https://localhost:8080/",
          "height": 659
        },
        "outputId": "a924849a-c490-40a9-e1db-3c21a10e486b"
      },
      "source": [
        "fig, ax = plt.subplots(figsize=(10, 10))\n",
        "\n",
        "ax.set_facecolor('#fafafa')\n",
        "\n",
        "oob_series.plot(kind='line',\n",
        "                color = 'red')\n",
        "plt.axhline(0.0418,\n",
        "            color='#875FDB',\n",
        "           linestyle='--')\n",
        "plt.axhline(0.03735,\n",
        "            color='#875FDB',\n",
        "           linestyle='--')\n",
        "plt.xlabel('n_estimators')\n",
        "plt.ylabel('OOB Error Rate')\n",
        "plt.title('OOB Error Rate Across various Forest sizes \\n(From 15 to 1000 trees)')"
      ],
      "execution_count": 67,
      "outputs": [
        {
          "output_type": "execute_result",
          "data": {
            "text/plain": [
              "Text(0.5, 1.0, 'OOB Error Rate Across various Forest sizes \\n(From 15 to 1000 trees)')"
            ]
          },
          "metadata": {
            "tags": []
          },
          "execution_count": 67
        },
        {
          "output_type": "display_data",
          "data": {
            "image/png": "[encoded data removed]",
            "text/plain": [
              "<Figure size 720x720 with 1 Axes>"
            ]
          },
          "metadata": {
            "tags": []
          }
        }
      ]
    },
    {
      "cell_type": "markdown",
      "metadata": {
        "id": "eolMcMOIyJhC",
        "colab_type": "text"
      },
      "source": [
        "The OOB error rate starts to oscillate at around 400 trees, so I will go ahead and use 400 trees in my forest. Using the pandas series object, I can easily find the OOB error rate for the estimator as follows:"
      ]
    },
    {
      "cell_type": "code",
      "metadata": {
        "id": "ZZCvgQuoyFaC",
        "colab_type": "code",
        "colab": {
          "base_uri": "https://localhost:8080/",
          "height": 34
        },
        "outputId": "975087cd-4f02-44e4-d3a8-c4ebd71d3860"
      },
      "source": [
        "print('OOB Error rate for 400 trees is: {0:.5f}'.format(oob_series[400]))"
      ],
      "execution_count": 68,
      "outputs": [
        {
          "output_type": "stream",
          "text": [
            "OOB Error rate for 400 trees is: 0.03956\n"
          ],
          "name": "stdout"
        }
      ]
    },
    {
      "cell_type": "markdown",
      "metadata": {
        "id": "eGEqy11RyMyk",
        "colab_type": "text"
      },
      "source": [
        "Utilizing the OOB error rate that was created with the model gives us an unbiased error rate. Since OOB can be calculated with the model estimation, it's helpful when cross validating and/or optimizing hyperparameters prove to be too computationally expensive.\n",
        "\n",
        "For the sake of this tutorial, I will go over other traditional methods for optimizing machine learning models, including the training and test error route and cross validation metrics."
      ]
    },
    {
      "cell_type": "markdown",
      "metadata": {
        "id": "JppvPcSzyYCc",
        "colab_type": "text"
      },
      "source": [
        "# Traditional Training and Test Set Split"
      ]
    },
    {
      "cell_type": "markdown",
      "metadata": {
        "id": "aMgeX_LVydkz",
        "colab_type": "text"
      },
      "source": [
        "In order for this methodology to work, we must set the number of trees calculated using the OOB error rate, and remove the **warm_start** and **oob_score** parameters, as well as include the **bootstrap** parameter."
      ]
    },
    {
      "cell_type": "code",
      "metadata": {
        "id": "EtVC_ayvyMRN",
        "colab_type": "code",
        "colab": {
          "base_uri": "https://localhost:8080/",
          "height": 136
        },
        "outputId": "cdfc6832-721a-48e1-f066-2753952c73a5"
      },
      "source": [
        "fit_rf.set_params(n_estimators=400,\n",
        "              bootstrap = True,\n",
        "              warm_start=False,\n",
        "              oob_score=False)"
      ],
      "execution_count": 71,
      "outputs": [
        {
          "output_type": "execute_result",
          "data": {
            "text/plain": [
              "RandomForestClassifier(bootstrap=True, class_weight=None, criterion='entropy',\n",
              "                       max_depth=4, max_features='log2', max_leaf_nodes=None,\n",
              "                       min_impurity_decrease=0.0, min_impurity_split=None,\n",
              "                       min_samples_leaf=1, min_samples_split=2,\n",
              "                       min_weight_fraction_leaf=0.0, n_estimators=400,\n",
              "                       n_jobs=None, oob_score=False, random_state=42, verbose=0,\n",
              "                       warm_start=False)"
            ]
          },
          "metadata": {
            "tags": []
          },
          "execution_count": 71
        }
      ]
    },
    {
      "cell_type": "markdown",
      "metadata": {
        "id": "1tseRJb9ynhq",
        "colab_type": "text"
      },
      "source": [
        "# Training the Algorithm"
      ]
    },
    {
      "cell_type": "markdown",
      "metadata": {
        "id": "TXMU0hnNyrbQ",
        "colab_type": "text"
      },
      "source": [
        "Next, let's train the algorithm with the training and target class data sets we made earlier."
      ]
    },
    {
      "cell_type": "code",
      "metadata": {
        "id": "s8jSNcMRymE8",
        "colab_type": "code",
        "colab": {
          "base_uri": "https://localhost:8080/",
          "height": 136
        },
        "outputId": "cccc073b-fcac-4ff2-bddb-df187173cde1"
      },
      "source": [
        "fit_rf.fit(training_set, class_set)"
      ],
      "execution_count": 72,
      "outputs": [
        {
          "output_type": "execute_result",
          "data": {
            "text/plain": [
              "RandomForestClassifier(bootstrap=True, class_weight=None, criterion='entropy',\n",
              "                       max_depth=4, max_features='log2', max_leaf_nodes=None,\n",
              "                       min_impurity_decrease=0.0, min_impurity_split=None,\n",
              "                       min_samples_leaf=1, min_samples_split=2,\n",
              "                       min_weight_fraction_leaf=0.0, n_estimators=400,\n",
              "                       n_jobs=None, oob_score=False, random_state=42, verbose=0,\n",
              "                       warm_start=False)"
            ]
          },
          "metadata": {
            "tags": []
          },
          "execution_count": 72
        }
      ]
    },
    {
      "cell_type": "markdown",
      "metadata": {
        "id": "hOLB3dcfyxO0",
        "colab_type": "text"
      },
      "source": [
        "# Variable Importance"
      ]
    },
    {
      "cell_type": "markdown",
      "metadata": {
        "id": "jzMlGChCyzR7",
        "colab_type": "text"
      },
      "source": [
        "Once we have trained the model, we can assess variable importance. One downside to using ensemble methods with decision trees is that you lose the [interpretability](https://www.datascience.com/resources/webinars/model-agnostic-interpretation-algorithms) a single tree gives. A single tree can outline for us important node splits, as well as variables that were important at each split.\n",
        "\n",
        "Fortunately, ensemble methods that rely on CART models use a metric to evaluate the homogeneity of splits. Thus, when creating ensembles, these metrics can be utilized to give insight into the important variables used in the training of the model. Two such metrics are **gini impurity** and **entropy**. Many people favor **gini impurity** because it has a lower computational cost than **entropy**, which requires calculating the logarithmic function. For more information, I recommend reading this [article](https://github.com/rasbt/python-machine-learning-book/blob/master/faq/decision-tree-binary.md).\n",
        "\n",
        "Here we define each metric:\n",
        "\n",
        "$GiniImpurity = 1 - \\sum_ip_i$\n",
        "\n",
        "and\n",
        "\n",
        "$Entropy = \\sum_i - p_i*\\log_2p_i$\n",
        "\n",
        "where $p_i$ is defined as the proportion of subsamples that belong to a certain target class.\n",
        "\n",
        "Since we are utilizing the **gini impurity**, the impurity measure reaches 0 when all target class labels are the same.\n",
        "\n",
        "Let's access the feature importance of the model and use a helper function to output the importance of our variables in descending order."
      ]
    },
    {
      "cell_type": "code",
      "metadata": {
        "id": "cbt4ktnpywvu",
        "colab_type": "code",
        "colab": {}
      },
      "source": [
        "importances_rf = fit_rf.feature_importances_\n",
        "indices_rf = np.argsort(importances_rf)[::-1]"
      ],
      "execution_count": 0,
      "outputs": []
    },
    {
      "cell_type": "code",
      "metadata": {
        "id": "_34eIcuY0q3S",
        "colab_type": "code",
        "colab": {}
      },
      "source": [
        "def variable_importance(importance, indices):\n",
        "    \"\"\"\n",
        "    Purpose:\n",
        "    ----------\n",
        "    Prints dependent variable names ordered from largest to smallest\n",
        "    based on gini or information gain for CART model.\n",
        "\n",
        "    Parameters:\n",
        "    ----------\n",
        "    names:      Name of columns included in model\n",
        "    importance: Array returned from feature_importances_ for CART\n",
        "                   models organized by dataframe index\n",
        "    indices:    Organized index of dataframe from largest to smallest\n",
        "                   based on feature_importances_\n",
        "\n",
        "    Returns:\n",
        "    ----------\n",
        "    Print statement outputting variable importance in descending order\n",
        "    \"\"\"\n",
        "    print(\"Feature ranking:\")\n",
        "\n",
        "    for f in range(len(names_index)):\n",
        "        i = f\n",
        "        print(\"%d. The feature '%s' \\\n",
        "has a Mean Decrease in Gini of %f\" % (f + 1,\n",
        "                                         names_index[indices[i]],\n",
        "                                         importance[indices[f]]))"
      ],
      "execution_count": 0,
      "outputs": []
    },
    {
      "cell_type": "code",
      "metadata": {
        "id": "6wg8P4aC0so7",
        "colab_type": "code",
        "colab": {
          "base_uri": "https://localhost:8080/",
          "height": 544
        },
        "outputId": "0af30174-8272-4b49-c4f2-5fa8d0e24fa0"
      },
      "source": [
        "variable_importance(importances_rf, indices_rf)"
      ],
      "execution_count": 75,
      "outputs": [
        {
          "output_type": "stream",
          "text": [
            "Feature ranking:\n",
            "1. The feature 'area_worst' has a Mean Decrease in Gini of 0.126025\n",
            "2. The feature 'perimeter_worst' has a Mean Decrease in Gini of 0.112596\n",
            "3. The feature 'concave_points_worst' has a Mean Decrease in Gini of 0.111562\n",
            "4. The feature 'concave_points_mean' has a Mean Decrease in Gini of 0.092333\n",
            "5. The feature 'radius_worst' has a Mean Decrease in Gini of 0.075607\n",
            "6. The feature 'concavity_mean' has a Mean Decrease in Gini of 0.058079\n",
            "7. The feature 'area_mean' has a Mean Decrease in Gini of 0.048655\n",
            "8. The feature 'concavity_worst' has a Mean Decrease in Gini of 0.048258\n",
            "9. The feature 'radius_mean' has a Mean Decrease in Gini of 0.046903\n",
            "10. The feature 'perimeter_mean' has a Mean Decrease in Gini of 0.044660\n",
            "11. The feature 'area_se' has a Mean Decrease in Gini of 0.040330\n",
            "12. The feature 'texture_worst' has a Mean Decrease in Gini of 0.024611\n",
            "13. The feature 'compactness_worst' has a Mean Decrease in Gini of 0.019897\n",
            "14. The feature 'texture_mean' has a Mean Decrease in Gini of 0.017804\n",
            "15. The feature 'compactness_mean' has a Mean Decrease in Gini of 0.016710\n",
            "16. The feature 'symmetry_worst' has a Mean Decrease in Gini of 0.015584\n",
            "17. The feature 'smoothness_worst' has a Mean Decrease in Gini of 0.014382\n",
            "18. The feature 'perimeter_se' has a Mean Decrease in Gini of 0.013683\n",
            "19. The feature 'radius_se' has a Mean Decrease in Gini of 0.013567\n",
            "20. The feature 'concavity_se' has a Mean Decrease in Gini of 0.010934\n",
            "21. The feature 'smoothness_mean' has a Mean Decrease in Gini of 0.006215\n",
            "22. The feature 'fractal_dimension_worst' has a Mean Decrease in Gini of 0.005897\n",
            "23. The feature 'fractal_dimension_se' has a Mean Decrease in Gini of 0.005745\n",
            "24. The feature 'concave_points_se' has a Mean Decrease in Gini of 0.005606\n",
            "25. The feature 'symmetry_se' has a Mean Decrease in Gini of 0.005587\n",
            "26. The feature 'compactness_se' has a Mean Decrease in Gini of 0.005150\n",
            "27. The feature 'fractal_dimension_mean' has a Mean Decrease in Gini of 0.004220\n",
            "28. The feature 'symmetry_mean' has a Mean Decrease in Gini of 0.003438\n",
            "29. The feature 'texture_se' has a Mean Decrease in Gini of 0.003252\n",
            "30. The feature 'smoothness_se' has a Mean Decrease in Gini of 0.002710\n"
          ],
          "name": "stdout"
        }
      ]
    },
    {
      "cell_type": "markdown",
      "metadata": {
        "id": "LtoVTS6A0yVF",
        "colab_type": "text"
      },
      "source": [
        "We can see here that our top five variables are **area_worst**, **perimeter_worst**, **concave_points_worst**, **concave_points_mean**, **radius_worst**."
      ]
    },
    {
      "cell_type": "markdown",
      "metadata": {
        "id": "EeJSv8WZ06e0",
        "colab_type": "text"
      },
      "source": [
        "This gives us great insight for further analyses like feature engineering, although I won't get into that topic during this tutorial. It can also give us insight into the mind of the practitioner by showing what variables played an important part in the predictions generated by the model. In the case of our test data set, knowing this information would help practitioners in the medical field focus on the top variables and their relationship with breast cancer."
      ]
    },
    {
      "cell_type": "code",
      "metadata": {
        "id": "Vs9Qefea0ugN",
        "colab_type": "code",
        "colab": {}
      },
      "source": [
        "def variable_importance_plot(importance, indices):\n",
        "    \"\"\"\n",
        "    Purpose\n",
        "    ----------\n",
        "    Prints bar chart detailing variable importance for CART model\n",
        "    NOTE: feature_space list was created because the bar chart\n",
        "    was transposed and index would be in incorrect order.\n",
        "\n",
        "    Parameters\n",
        "    ----------\n",
        "    importance_desc: Array returned from feature_importances_ for CART\n",
        "                    models organized in descending order\n",
        "\n",
        "    indices: Organized index of dataframe from largest to smallest\n",
        "                    based on feature_importances_\n",
        "    Returns:\n",
        "    ----------\n",
        "    Returns variable importance plot in descending order\n",
        "    \"\"\"\n",
        "    index = np.arange(len(names_index))\n",
        "\n",
        "    importance_desc = sorted(importance)\n",
        "    feature_space = []\n",
        "    for i in range(29, -1, -1):\n",
        "        feature_space.append(names_index[indices[i]])\n",
        "\n",
        "    fig, ax = plt.subplots(figsize=(10, 10))\n",
        "\n",
        "    ax.set_facecolor('#fafafa')\n",
        "    plt.title('Feature importances for Random Forest Model\\\n",
        "    \\nBreast Cancer (Diagnostic)')\n",
        "    plt.barh(index,\n",
        "         importance_desc,\n",
        "         align=\"center\",\n",
        "         color = '#875FDB')\n",
        "    plt.yticks(index,\n",
        "           feature_space)\n",
        "\n",
        "    plt.ylim(-1, 30)\n",
        "    plt.xlim(0, max(importance_desc))\n",
        "    plt.xlabel('Mean Decrease in Gini')\n",
        "    plt.ylabel('Feature')\n",
        "\n",
        "    plt.show()\n",
        "    plt.close()"
      ],
      "execution_count": 0,
      "outputs": []
    },
    {
      "cell_type": "code",
      "metadata": {
        "id": "f2nItRzg09mT",
        "colab_type": "code",
        "colab": {
          "base_uri": "https://localhost:8080/",
          "height": 642
        },
        "outputId": "1e9ff864-82e8-4a2d-cf6e-3411bcc2677f"
      },
      "source": [
        "variable_importance_plot(importances_rf, indices_rf)"
      ],
      "execution_count": 79,
      "outputs": [
        {
          "output_type": "display_data",
          "data": {
            "image/png": "[encoded data removed]",
            "text/plain": [
              "<Figure size 720x720 with 1 Axes>"
            ]
          },
          "metadata": {
            "tags": []
          }
        }
      ]
    },
    {
      "cell_type": "markdown",
      "metadata": {
        "id": "v8-bjysL1Gy0",
        "colab_type": "text"
      },
      "source": [
        "The visual above helps drive home the point, since you can clearly see the difference in the importance of variables for the ensemble method. Certain cutoff points can be made to reduce the inclusion of features and can help in the accuracy of the model, since we'll be removing what is considered noise within our feature space."
      ]
    },
    {
      "cell_type": "markdown",
      "metadata": {
        "id": "oTVe6vQT1I5p",
        "colab_type": "text"
      },
      "source": [
        "# Cross Validation"
      ]
    },
    {
      "cell_type": "markdown",
      "metadata": {
        "id": "F00-tb881Oob",
        "colab_type": "text"
      },
      "source": [
        "Cross validation is a powerful tool that is used for estimating the predictive power of your model, and it performs better than the conventional training and test set. Using cross validation, we can create multiple training and test sets and average the scores to give us a less biased metric.\n",
        "\n",
        "In this case, we will create 10 sets within our data set that calculate the estimations we have done already, then average the prediction error to give us a more accurate representation of our model's prediction power. The model's performance can vary significantly when utilizing different training and test sets.\n",
        "\n",
        "For a more thorough explanation of cross validation I recommend reading [An Introduction to Statistical Learnings with Applications in R](http://www-bcf.usc.edu/~gareth/ISL/), specifically chapter 5.1. "
      ]
    },
    {
      "cell_type": "markdown",
      "metadata": {
        "id": "mEkFbnNZ1T0O",
        "colab_type": "text"
      },
      "source": [
        "# K-Fold Cross Validation"
      ]
    },
    {
      "cell_type": "markdown",
      "metadata": {
        "id": "VzTC60mK1WKN",
        "colab_type": "text"
      },
      "source": [
        "Here we are employing K-fold cross validation; more specifically, 10 folds. We are creating 10 subsets of our data on which to employ the training and test set methodology; then we will average the accuracy for all folds to give us our estimation.\n",
        "\n",
        "Within a random forest context, if your data set is significantly large, you can choose to not do cross validation and instead use the OOB error rate as an unbiased metric for computational costs. But for the purposes of this tutorial, I included it to show the different accuracy metrics available."
      ]
    },
    {
      "cell_type": "code",
      "metadata": {
        "id": "eYMrZpTH0_Gd",
        "colab_type": "code",
        "colab": {}
      },
      "source": [
        "def cross_val_metrics(fit, training_set, class_set, print_results = True):\n",
        "    \"\"\"\n",
        "    Purpose\n",
        "    ----------\n",
        "    Function helps automate cross validation processes while including\n",
        "    option to print metrics or store in variable\n",
        "\n",
        "    Parameters\n",
        "    ----------\n",
        "    fit: Fitted model\n",
        "    training_set:  Data_frame containing 80% of original dataframe\n",
        "    class_set:     data_frame containing the respective target vaues\n",
        "                  for the training_set\n",
        "    print_results: Boolean, if true prints the metrics, else saves metrics as\n",
        "                  variables\n",
        "\n",
        "    Returns\n",
        "    ----------\n",
        "    scores.mean(): Float representing cross validation score\n",
        "    scores.std() / 2: Float representing the standard error (derived\n",
        "            from cross validation score's standard deviation)\n",
        "    \"\"\"\n",
        "    n = KFold(n_splits=10)\n",
        "    scores = cross_val_score(fit,\n",
        "                     training_set,\n",
        "                     class_set,\n",
        "                     cv = n)\n",
        "    if print_results:\n",
        "        print(\"Accuracy: {0: 0.3f} (+/- {1: 0.3f})\"\\\n",
        "          .format(scores.mean(), scores.std() / 2))\n",
        "    else:\n",
        "        return scores.mean(), scores.std() / 2"
      ],
      "execution_count": 0,
      "outputs": []
    },
    {
      "cell_type": "code",
      "metadata": {
        "id": "lKRF6A4k1ZUs",
        "colab_type": "code",
        "colab": {
          "base_uri": "https://localhost:8080/",
          "height": 34
        },
        "outputId": "835a53b5-05e4-46ef-c4a3-13d0ad4379e3"
      },
      "source": [
        "cross_val_metrics(fit_rf,\n",
        "              training_set,\n",
        "              class_set,\n",
        "              print_results = True)"
      ],
      "execution_count": 81,
      "outputs": [
        {
          "output_type": "stream",
          "text": [
            "Accuracy:  0.960 (+/-  0.013)\n"
          ],
          "name": "stdout"
        }
      ]
    },
    {
      "cell_type": "markdown",
      "metadata": {
        "id": "ripX-klS1gUa",
        "colab_type": "text"
      },
      "source": [
        "# Test Set Metrics"
      ]
    },
    {
      "cell_type": "markdown",
      "metadata": {
        "id": "d4Cmv8PA1jKs",
        "colab_type": "text"
      },
      "source": [
        "Using the test set that was created earlier, let's examine another metric for the evaluation of our model. You'll recall that that we didn't touch the test set until now — after we had completed hyperparamter optimization — to avoid the problem of data leakage. \n",
        "\n",
        "Here, I have created a confusion matrix showcasing the following metrics:"
      ]
    },
    {
      "cell_type": "markdown",
      "metadata": {
        "id": "ebQs5Gte1liv",
        "colab_type": "text"
      },
      "source": [
        "| n = Sample Size | Predicted Benign | Predicted Malignant |\n",
        "| -- | -- | -- |\n",
        "|Actual Benign | *True Positive* | *False Negative* |\n",
        "| Actual Malignant | *False Positive* | *True Negative* |"
      ]
    },
    {
      "cell_type": "code",
      "metadata": {
        "id": "syY1Wnhg1bDx",
        "colab_type": "code",
        "colab": {}
      },
      "source": [
        "predictions_rf = fit_rf.predict(test_set)"
      ],
      "execution_count": 0,
      "outputs": []
    },
    {
      "cell_type": "code",
      "metadata": {
        "id": "qduo6XuY2BYi",
        "colab_type": "code",
        "colab": {}
      },
      "source": [
        "test_crosstb = pd.crosstab(index = test_class_set,\n",
        "                           columns = predictions_rf)\n",
        "\n",
        "# More human readable\n",
        "test_crosstb = test_crosstb.rename(columns= {0: 'Benign', 1: 'Malignant'})\n",
        "test_crosstb.index = ['Benign', 'Malignant']\n",
        "test_crosstb.columns.name = 'n = 114'"
      ],
      "execution_count": 0,
      "outputs": []
    },
    {
      "cell_type": "code",
      "metadata": {
        "id": "4h7v6ig82Cuk",
        "colab_type": "code",
        "colab": {
          "base_uri": "https://localhost:8080/",
          "height": 111
        },
        "outputId": "392e8abe-419f-43a1-ba97-454500c89c31"
      },
      "source": [
        "test_crosstb"
      ],
      "execution_count": 84,
      "outputs": [
        {
          "output_type": "execute_result",
          "data": {
            "text/html": [
              "<div>\n",
              "<style scoped>\n",
              "    .dataframe tbody tr th:only-of-type {\n",
              "        vertical-align: middle;\n",
              "    }\n",
              "\n",
              "    .dataframe tbody tr th {\n",
              "        vertical-align: top;\n",
              "    }\n",
              "\n",
              "    .dataframe thead th {\n",
              "        text-align: right;\n",
              "    }\n",
              "</style>\n",
              "<table border=\"1\" class=\"dataframe\">\n",
              "  <thead>\n",
              "    <tr style=\"text-align: right;\">\n",
              "      <th>n = 114</th>\n",
              "      <th>Benign</th>\n",
              "      <th>Malignant</th>\n",
              "    </tr>\n",
              "  </thead>\n",
              "  <tbody>\n",
              "    <tr>\n",
              "      <th>Benign</th>\n",
              "      <td>70</td>\n",
              "      <td>1</td>\n",
              "    </tr>\n",
              "    <tr>\n",
              "      <th>Malignant</th>\n",
              "      <td>3</td>\n",
              "      <td>40</td>\n",
              "    </tr>\n",
              "  </tbody>\n",
              "</table>\n",
              "</div>"
            ],
            "text/plain": [
              "n = 114    Benign  Malignant\n",
              "Benign         70          1\n",
              "Malignant       3         40"
            ]
          },
          "metadata": {
            "tags": []
          },
          "execution_count": 84
        }
      ]
    },
    {
      "cell_type": "code",
      "metadata": {
        "id": "jCzR9o_42DvL",
        "colab_type": "code",
        "colab": {
          "base_uri": "https://localhost:8080/",
          "height": 51
        },
        "outputId": "2fc9298e-664e-4280-c0a2-fba37fa3557e"
      },
      "source": [
        "accuracy_rf = fit_rf.score(test_set, test_class_set)\n",
        "\n",
        "print(\"Here is our mean accuracy on the test set:\\n {0:.3f}\"\\\n",
        "      .format(accuracy_rf))"
      ],
      "execution_count": 85,
      "outputs": [
        {
          "output_type": "stream",
          "text": [
            "Here is our mean accuracy on the test set:\n",
            " 0.965\n"
          ],
          "name": "stdout"
        }
      ]
    },
    {
      "cell_type": "code",
      "metadata": {
        "id": "rdyADtbz2GJI",
        "colab_type": "code",
        "colab": {
          "base_uri": "https://localhost:8080/",
          "height": 51
        },
        "outputId": "a84aa7f9-9873-4865-98b7-e6328bd91522"
      },
      "source": [
        "# Here we calculate the test error rate!\n",
        "test_error_rate_rf = 1 - accuracy_rf\n",
        "print(\"The test error rate for our model is:\\n {0: .4f}\"\\\n",
        "      .format(test_error_rate_rf))"
      ],
      "execution_count": 86,
      "outputs": [
        {
          "output_type": "stream",
          "text": [
            "The test error rate for our model is:\n",
            "  0.0351\n"
          ],
          "name": "stdout"
        }
      ]
    },
    {
      "cell_type": "markdown",
      "metadata": {
        "id": "MlluQL3c2KRZ",
        "colab_type": "text"
      },
      "source": [
        "As you can see, we got a very similar error rate for our test set to the one we got with our OOB, which is a good sign for our model."
      ]
    },
    {
      "cell_type": "markdown",
      "metadata": {
        "id": "oTbLL5Pn2LQ3",
        "colab_type": "text"
      },
      "source": [
        "# ROC Curve Metrics"
      ]
    },
    {
      "cell_type": "markdown",
      "metadata": {
        "id": "Y0RZPYX02OaD",
        "colab_type": "text"
      },
      "source": [
        "A receiver operating characteristic (ROC) curve calculates the false positive rates and true positive rates across different thresholds. Let's graph these calculations.\n",
        "\n",
        "If our curve is located in the top left corner of the plot, that indicates an ideal model; i.e., a false positive rate of 0 and true positive rate of 1. On the other hand, a ROC curve that is at 45 degrees is indicative of a model that is essentially randomly guessing.\n",
        "\n",
        "We will also calculate the area under the curve (AUC). The AUC is used as a metric to differentiate the prediction power of the model for patients with cancer and those without it. Typically, a value closer to 1 means that our model was able to differentiate correctly from a random sample of the two target classes of two patients with and without the disease."
      ]
    },
    {
      "cell_type": "code",
      "metadata": {
        "id": "W2NcmM2C2IOa",
        "colab_type": "code",
        "colab": {}
      },
      "source": [
        "fpr2, tpr2, _ = roc_curve(predictions_rf,\n",
        "                      test_class_set)\n",
        "predictions_prob = fit_rf.predict_proba(test_set)[:, 1]"
      ],
      "execution_count": 0,
      "outputs": []
    },
    {
      "cell_type": "code",
      "metadata": {
        "id": "UCv4Vekq2Rz9",
        "colab_type": "code",
        "colab": {}
      },
      "source": [
        "auc_rf = auc(fpr2, tpr2)"
      ],
      "execution_count": 0,
      "outputs": []
    },
    {
      "cell_type": "code",
      "metadata": {
        "id": "VvkeMgY-2S0I",
        "colab_type": "code",
        "colab": {}
      },
      "source": [
        "def plot_roc_curve(fpr, tpr, auc, mod, xlim=None, ylim=None):\n",
        "    \"\"\"\n",
        "    Purpose\n",
        "    ----------\n",
        "    Function creates ROC Curve for respective model given selected parameters.\n",
        "    Optional x and y limits to zoom into graph\n",
        "\n",
        "    Parameters\n",
        "    ----------\n",
        "    fpr:  Array returned from sklearn.metrics.roc_curve for increasing\n",
        "         false positive rates\n",
        "    tpr:  Array returned from sklearn.metrics.roc_curve for increasing\n",
        "         true positive rates\n",
        "    auc:  Float returned from sklearn.metrics.auc (Area under Curve)\n",
        "    mod:  String represenation of appropriate model, can only contain the\n",
        "         following: ['knn', 'rf', 'nn']\n",
        "    xlim: Set upper and lower x-limits\n",
        "    ylim: Set upper and lower y-limits\n",
        "\n",
        "    Returns:\n",
        "    ----------\n",
        "    Returns plot of Receiving Operating Curve for specific model. Allowing user to\n",
        "    specify x and y-limits.\n",
        "    \"\"\"\n",
        "    mod_list = ['knn', 'rf', 'nn']\n",
        "    method = [('Kth Nearest Neighbor', 'deeppink'),\n",
        "          ('Random Forest', 'red'),\n",
        "          ('Neural Network', 'purple')]\n",
        "\n",
        "    plot_title = ''\n",
        "    color_value = ''\n",
        "    for i in range(0, 3):\n",
        "        if mod_list[i] == mod:\n",
        "            plot_title = method[i][0]\n",
        "            color_value = method[i][1]\n",
        "\n",
        "    fig, ax = plt.subplots(figsize=(10, 10))\n",
        "    ax.set_facecolor('#fafafa')\n",
        "\n",
        "    plt.plot(fpr, tpr,\n",
        "         color=color_value,\n",
        "         linewidth=1)\n",
        "    plt.title('ROC Curve For {0} (AUC = {1: 0.3f}) \\\n",
        "          \\nBreast Cancer Diagnostic'\\\n",
        "          .format(plot_title, auc))\n",
        "\n",
        "    plt.plot([0, 1], [0, 1], 'k--', lw=2) # Add Diagonal line\n",
        "    plt.plot([0, 0], [1, 0], 'k--', lw=2, color = 'black')\n",
        "    plt.plot([1, 0], [1, 1], 'k--', lw=2, color = 'black')\n",
        "    if xlim is not None:\n",
        "        plt.xlim(*xlim)\n",
        "    if ylim is not None:\n",
        "        plt.ylim(*ylim)\n",
        "    plt.xlabel('False Positive Rate')\n",
        "    plt.ylabel('True Positive Rate')\n",
        "    plt.show()\n",
        "    plt.close()"
      ],
      "execution_count": 0,
      "outputs": []
    },
    {
      "cell_type": "code",
      "metadata": {
        "id": "TjNT-ve02eKN",
        "colab_type": "code",
        "colab": {
          "base_uri": "https://localhost:8080/",
          "height": 642
        },
        "outputId": "54f41dcc-c525-4d31-9cf8-295ab6e5b16f"
      },
      "source": [
        "plot_roc_curve(fpr2, tpr2, auc_rf, 'rf',\n",
        "           xlim=(-0.01, 1.05),\n",
        "           ylim=(0.001, 1.05))"
      ],
      "execution_count": 90,
      "outputs": [
        {
          "output_type": "display_data",
          "data": {
            "image/png": "[encoded data removed]",
            "text/plain": [
              "<Figure size 720x720 with 1 Axes>"
            ]
          },
          "metadata": {
            "tags": []
          }
        }
      ]
    },
    {
      "cell_type": "markdown",
      "metadata": {
        "id": "-fu-oNNS2jHH",
        "colab_type": "text"
      },
      "source": [
        "Our model performed exceptionally well — it has an AUC over .90. Now, let's take a zoomed-in view to showcase the closeness of our ROC curve to the ideal ROC curve."
      ]
    },
    {
      "cell_type": "code",
      "metadata": {
        "id": "mpkNWMpl2gF1",
        "colab_type": "code",
        "colab": {
          "base_uri": "https://localhost:8080/",
          "height": 642
        },
        "outputId": "22fca71a-3168-4a5c-bbed-d1a6d24d1cb0"
      },
      "source": [
        "plot_roc_curve(fpr2, tpr2, auc_rf, 'rf',\n",
        "               xlim=(-0.01, 0.2),\n",
        "               ylim=(0.85, 1.01))"
      ],
      "execution_count": 91,
      "outputs": [
        {
          "output_type": "display_data",
          "data": {
            "image/png": "[encoded data removed]",
            "text/plain": [
              "<Figure size 720x720 with 1 Axes>"
            ]
          },
          "metadata": {
            "tags": []
          }
        }
      ]
    },
    {
      "cell_type": "markdown",
      "metadata": {
        "id": "nglK0-dh2nyE",
        "colab_type": "text"
      },
      "source": [
        "# Classification Report"
      ]
    },
    {
      "cell_type": "markdown",
      "metadata": {
        "id": "8QIP5rUx2psK",
        "colab_type": "text"
      },
      "source": [
        "I'm going to go ahead and create a classification report for our model, which is available through **sklearn.metrics**. This report provides many important classification metrics including:\n",
        "\n",
        "* **Precision**: Also called the positive predictive value, this metric is the number of correct predictions divided by the number of correct predictions plus false positives, so $\\frac {tp}{tp + fp}$.\n",
        "* **Recall**: Also known as the sensitivity, this is the number of correct predictions divided by the total number of instances, so $\\frac{tp}{tp + fn}$ where $fn$ is the number of false negatives.\n",
        "* **f1-score**: This is defined as the *weighted harmonic mean* of both the precision and recall, where the best f1-score is 1 and this worst value is 0, as defined by sklean's [documentation](http://scikit-learn.org/stable/modules/generated/sklearn.metrics.precision_recall_fscore_support.html#sklearn.metrics.precision_recall_fscore_support).\n",
        "* **support**: The number of instances that are the correct target values.\n",
        "\n",
        "Across the board, we can see that our model provided great insight into classifying patients based on FNA scans. Other important metrics to consider would be the false positive rate, since within this context it would be bad for the model to tell someone that they are cancer free when in reality they have cancer."
      ]
    },
    {
      "cell_type": "code",
      "metadata": {
        "id": "cO3T6-rC2lKY",
        "colab_type": "code",
        "colab": {
          "base_uri": "https://localhost:8080/",
          "height": 232
        },
        "outputId": "3b6dc576-7da1-464d-b1ea-9d9eb73b4b93"
      },
      "source": [
        "def print_class_report(predictions, alg_name): \"\"\"\n",
        "Purpose\n",
        "----------\n",
        "Function helps automate the report generated by the sklearn package. Useful for multiple model comparison\n",
        "\n",
        "Parameters\n",
        "----------\n",
        "Predictions:\n",
        "The predictions made by the algorithm used alg_name: String containing the name of the algorithm used\n",
        "\n",
        "Returns:\n",
        "----------\n",
        "Returns classification report generated from sklearn.\n",
        "\"\"\"\n",
        "print('Classification Report for {0}:'.format(alg_name))\n",
        "print(classification_report(predictions,\n",
        "        test_class_set,\n",
        "        target_names = dx))"
      ],
      "execution_count": 101,
      "outputs": [
        {
          "output_type": "error",
          "ename": "NameError",
          "evalue": "ignored",
          "traceback": [
            "\u001b[0;31m---------------------------------------------------------------------------\u001b[0m",
            "\u001b[0;31mNameError\u001b[0m                                 Traceback (most recent call last)",
            "\u001b[0;32m<ipython-input-101-17166dd1d528>\u001b[0m in \u001b[0;36m<module>\u001b[0;34m()\u001b[0m\n\u001b[1;32m     13\u001b[0m \u001b[0mReturns\u001b[0m \u001b[0mclassification\u001b[0m \u001b[0mreport\u001b[0m \u001b[0mgenerated\u001b[0m \u001b[0;32mfrom\u001b[0m \u001b[0msklearn\u001b[0m\u001b[0;34m.\u001b[0m\u001b[0;34m\u001b[0m\u001b[0;34m\u001b[0m\u001b[0m\n\u001b[1;32m     14\u001b[0m \"\"\"\n\u001b[0;32m---> 15\u001b[0;31m \u001b[0mprint\u001b[0m\u001b[0;34m(\u001b[0m\u001b[0;34m'Classification Report for {0}:'\u001b[0m\u001b[0;34m.\u001b[0m\u001b[0mformat\u001b[0m\u001b[0;34m(\u001b[0m\u001b[0malg_name\u001b[0m\u001b[0;34m)\u001b[0m\u001b[0;34m)\u001b[0m\u001b[0;34m\u001b[0m\u001b[0;34m\u001b[0m\u001b[0m\n\u001b[0m\u001b[1;32m     16\u001b[0m print(classification_report(predictions,\n\u001b[1;32m     17\u001b[0m         \u001b[0mtest_class_set\u001b[0m\u001b[0;34m,\u001b[0m\u001b[0;34m\u001b[0m\u001b[0;34m\u001b[0m\u001b[0m\n",
            "\u001b[0;31mNameError\u001b[0m: name 'alg_name' is not defined"
          ]
        }
      ]
    },
    {
      "cell_type": "code",
      "metadata": {
        "id": "ueRH7FxK3K_v",
        "colab_type": "code",
        "colab": {}
      },
      "source": [
        "class_report = print_class_report(predictions_rf, 'Random Forest')"
      ],
      "execution_count": 0,
      "outputs": []
    },
    {
      "cell_type": "markdown",
      "metadata": {
        "id": "jkFIHPCC3xFT",
        "colab_type": "text"
      },
      "source": [
        "# Metrics for Random Forest"
      ]
    },
    {
      "cell_type": "markdown",
      "metadata": {
        "id": "jnjPfnv43zsu",
        "colab_type": "text"
      },
      "source": [
        "Here, I've accumulated the various metrics we have used throughout this tutorial in a simple table to showcase the power and effectiveness of random forest modeling.\n",
        "\n",
        "| Model | OOB Error Rate | Test Error Rate | Cross Validation Score | AUC |\n",
        "| -- | -- | -- | -- | -- |\n",
        "| Random Forest | 0.04835 | 0.0351 | 0.947 (+/- 0.019) | 0.967 |"
      ]
    },
    {
      "cell_type": "markdown",
      "metadata": {
        "id": "pSaqN4Zj4N4R",
        "colab_type": "text"
      },
      "source": [
        "# Conclusions"
      ]
    },
    {
      "cell_type": "markdown",
      "metadata": {
        "id": "6B7O52U64QM7",
        "colab_type": "text"
      },
      "source": [
        "We've now gone through a number of metrics to assess the capabilities of our random forest, but there's still much that can be done using background information from the data set. [Feature engineering](https://www.datascience.com/blog/feature-engineering-for-churn-modeling) would be a powerful tool for extracting information and moving forward into the research phase, and would help define key metrics to utilize when optimizing model parameters.\n",
        "\n",
        "There have been advancements with [image classification](https://www.datascience.com/resources/seminar/image-recognition-with-deep-learning) in the past decade that make it possible to use images instead of extracted features from those images, but this data set is a great resource for making use of machine learning processes and concepts. If you have any suggestions, recommendations, or corrections please reach out to me."
      ]
    }
  ]
}